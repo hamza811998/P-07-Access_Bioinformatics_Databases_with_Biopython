{
 "cells": [
  {
   "cell_type": "markdown",
   "metadata": {},
   "source": [
    "# **Name:** Hamza Shafiq\n",
    "\n",
    "**Reach me at:** \n",
    "1. [Github](https://github.com/hamza811998)\n",
    "2. [LinkedIn](https://www.linkedin.com/in/hamza811998/)\n",
    "3. [Fiverr](https://www.fiverr.com/hamza_811998?up_rollout=true)\n",
    "4. [Facebook](https://www.facebook.com/hamza811998/)\n",
    "5. [Twitter](https://twitter.com/hamza811998)\n",
    "6. [Instagram](https://www.instagram.com/hamza811998/)\n",
    "\n",
    "**Email:** hamza811998shafiq@gmail.com"
   ]
  },
  {
   "cell_type": "markdown",
   "metadata": {},
   "source": [
    "# `ACCESS BIOINFORMATICS DATABASES WITH BIO-PYTHON`"
   ]
  },
  {
   "cell_type": "markdown",
   "metadata": {},
   "source": [
    "1. [NCBI](#1.-NCBI)<br>\n",
    "    1.1. [Nucleotide BLAST](#1.1.-Nucleotide-BLAST)<br>\n",
    "    1.2. [Protein BLAST](#1.2.-Protein-BLAST)\n",
    "    \n",
    "2. [ENTREZ](#2.-ENTREZ)<br>\n",
    "    2.1. [PUBMED](#2.1.-PUBMED)<br>\n",
    "    2.2. [Nucleotide](#2.2.-Nucleotide)\n",
    "    \n",
    "3. [PDB](#3.-PDB)\n",
    "\n",
    "4. [EXPASY](#4.-EXPASY)<br>\n",
    "    4.1. [PROSITE](#4.1.-PROSITE)<br>\n",
    "    4.2. [ScanProsite](#4.2.-ScanProsite)\n",
    "    \n",
    "5. [KEGG](#5.-KEGG)"
   ]
  },
  {
   "cell_type": "markdown",
   "metadata": {},
   "source": [
    "# 1. NCBI"
   ]
  },
  {
   "cell_type": "markdown",
   "metadata": {},
   "source": [
    "### Import Modules"
   ]
  },
  {
   "cell_type": "code",
   "execution_count": 1,
   "metadata": {},
   "outputs": [],
   "source": [
    "# pip install Bio\n",
    "# pip install biopython"
   ]
  },
  {
   "cell_type": "code",
   "execution_count": 2,
   "metadata": {},
   "outputs": [],
   "source": [
    "from Bio.Blast import NCBIWWW\n",
    "from Bio import SeqIO, SearchIO"
   ]
  },
  {
   "cell_type": "code",
   "execution_count": 3,
   "metadata": {},
   "outputs": [],
   "source": [
    "# help(NCBIWWW)"
   ]
  },
  {
   "cell_type": "markdown",
   "metadata": {},
   "source": [
    "## 1.1. Nucleotide BLAST"
   ]
  },
  {
   "cell_type": "code",
   "execution_count": 4,
   "metadata": {},
   "outputs": [
    {
     "data": {
      "text/plain": [
       "774"
      ]
     },
     "execution_count": 4,
     "metadata": {},
     "output_type": "execute_result"
    }
   ],
   "source": [
    "nuc_record = SeqIO.read(\"nuc_seq.fasta\", format = 'fasta')\n",
    "len(nuc_record)"
   ]
  },
  {
   "cell_type": "code",
   "execution_count": 5,
   "metadata": {},
   "outputs": [
    {
     "data": {
      "text/plain": [
       "'MT598137.1 Severe acute respiratory syndrome coronavirus 2 isolate SARS-CoV-2/human/IRN/PN-2142-S/2020 surface glycoprotein (S) gene, partial cds'"
      ]
     },
     "execution_count": 5,
     "metadata": {},
     "output_type": "execute_result"
    }
   ],
   "source": [
    "nuc_record.description"
   ]
  },
  {
   "cell_type": "code",
   "execution_count": 6,
   "metadata": {},
   "outputs": [
    {
     "data": {
      "text/plain": [
       "Seq('ATCGCTCCAGGGCAAACTGGAAAGATTGCTGATTATAATTATAAATTACCAGAT...GGT')"
      ]
     },
     "execution_count": 6,
     "metadata": {},
     "output_type": "execute_result"
    }
   ],
   "source": [
    "nuc_record.seq"
   ]
  },
  {
   "cell_type": "code",
   "execution_count": 7,
   "metadata": {},
   "outputs": [
    {
     "name": "stderr",
     "output_type": "stream",
     "text": [
      "c:\\Users\\hamza\\.conda\\envs\\python_eda\\Lib\\site-packages\\Bio\\SearchIO\\_legacy\\__init__.py:12: BiopythonDeprecationWarning: The 'Bio.SearchIO._legacy' module for parsing BLAST plain text output is deprecated and will be removed in a future release of Biopython. Consider generating your BLAST output for parsing as XML or tabular format instead.\n",
      "  warnings.warn(\n"
     ]
    }
   ],
   "source": [
    "result_handle = NCBIWWW.qblast(\"blastn\", \"nt\", nuc_record.seq)\n",
    "blast_reslut = SearchIO.read(result_handle, \"blast-xml\")"
   ]
  },
  {
   "cell_type": "code",
   "execution_count": 8,
   "metadata": {},
   "outputs": [
    {
     "name": "stdout",
     "output_type": "stream",
     "text": [
      "Program: blastn (2.14.1+)\n",
      "  Query: No (774)\n",
      "         definition line\n",
      " Target: nt\n",
      "   Hits: ----  -----  ----------------------------------------------------------\n",
      "            #  # HSP  ID + description\n",
      "         ----  -----  ----------------------------------------------------------\n",
      "            0      1  gi|2592184291|gb|OR671911.1|  Severe acute respiratory ...\n",
      "            1      1  gi|2592184156|gb|OR671900.1|  Severe acute respiratory ...\n"
     ]
    }
   ],
   "source": [
    "print(blast_reslut[0:2])"
   ]
  },
  {
   "cell_type": "code",
   "execution_count": 9,
   "metadata": {},
   "outputs": [
    {
     "name": "stdout",
     "output_type": "stream",
     "text": [
      "Sequence ID: gi|2592184291|gb|OR671911.1|\n",
      "Sequence Description: Severe acute respiratory syndrome coronavirus 2 isolate SARS-CoV-2/human/USA/CA-LACPHL-AY02643/2020, complete genome\n",
      "E-value: 0.0\n"
     ]
    }
   ],
   "source": [
    "Seq = blast_reslut[0]\n",
    "print(f\"Sequence ID: {Seq.id}\")\n",
    "print(f\"Sequence Description: {Seq.description}\")\n",
    "\n",
    "details = Seq[0]\n",
    "print(f\"E-value: {details.evalue}\")"
   ]
  },
  {
   "cell_type": "code",
   "execution_count": 10,
   "metadata": {},
   "outputs": [
    {
     "name": "stdout",
     "output_type": "stream",
     "text": [
      "alignment:\n",
      "Alignment with 2 rows and 774 columns\n",
      "ATCGCTCCAGGGCAAACTGGAAAGATTGCTGATTATAATTATAA...GGT No\n",
      "ATCGCTCCAGGGCAAACTGGAAAGATTGCTGATTATAATTATAA...GGT gi|2592184291|gb|OR671911.1|\n"
     ]
    }
   ],
   "source": [
    "print(f\"alignment:\\n{details.aln}\")"
   ]
  },
  {
   "cell_type": "markdown",
   "metadata": {},
   "source": [
    "## 1.2. Protein BLAST"
   ]
  },
  {
   "cell_type": "code",
   "execution_count": 11,
   "metadata": {},
   "outputs": [
    {
     "data": {
      "text/plain": [
       "258"
      ]
     },
     "execution_count": 11,
     "metadata": {},
     "output_type": "execute_result"
    }
   ],
   "source": [
    "prot_record = SeqIO.read(\"prot_seq.fasta\", format=\"fasta\")\n",
    "len(prot_record)"
   ]
  },
  {
   "cell_type": "code",
   "execution_count": 12,
   "metadata": {},
   "outputs": [
    {
     "data": {
      "text/plain": [
       "'QKO24044.1 surface glycoprotein, partial [Severe acute respiratory syndrome coronavirus 2]'"
      ]
     },
     "execution_count": 12,
     "metadata": {},
     "output_type": "execute_result"
    }
   ],
   "source": [
    "prot_record.description"
   ]
  },
  {
   "cell_type": "code",
   "execution_count": 13,
   "metadata": {},
   "outputs": [
    {
     "data": {
      "text/plain": [
       "Seq('IAPGQTGKIADYNYKLPDDFTGCVIAWNSNNLDSKVGGNYNYLYRLFRKSNLKP...PIG')"
      ]
     },
     "execution_count": 13,
     "metadata": {},
     "output_type": "execute_result"
    }
   ],
   "source": [
    "prot_record.seq"
   ]
  },
  {
   "cell_type": "code",
   "execution_count": 14,
   "metadata": {},
   "outputs": [],
   "source": [
    "result_handle = NCBIWWW.qblast(\"blastp\", \"pdb\", prot_record.seq)\n",
    "blast_result = SearchIO.read(result_handle, \"blast-xml\")"
   ]
  },
  {
   "cell_type": "code",
   "execution_count": 15,
   "metadata": {},
   "outputs": [
    {
     "name": "stdout",
     "output_type": "stream",
     "text": [
      "Program: blastp (2.14.1+)\n",
      "  Query: unnamed (258)\n",
      "         protein product\n",
      " Target: pdb\n",
      "   Hits: ----  -----  ----------------------------------------------------------\n",
      "            #  # HSP  ID + description\n",
      "         ----  -----  ----------------------------------------------------------\n",
      "            0      1  pdb|8ELJ|A  Chain A, Spike glycoprotein [Severe acute r...\n",
      "            1      1  pdb|7CAB|A  Chain A, Spike glycoprotein [Severe acute r...\n"
     ]
    }
   ],
   "source": [
    "print(blast_result[0:2])"
   ]
  },
  {
   "cell_type": "code",
   "execution_count": 16,
   "metadata": {},
   "outputs": [
    {
     "name": "stdout",
     "output_type": "stream",
     "text": [
      "Sequence ID: pdb|8ELJ|A\n",
      "Sequence Description: Chain A, Spike glycoprotein [Severe acute respiratory syndrome coronavirus 2]\n",
      "E-value: 0.0\n"
     ]
    }
   ],
   "source": [
    "Seq = blast_result [0]\n",
    "print(f\"Sequence ID: {Seq.id}\")\n",
    "print(f\"Sequence Description: {Seq.description}\")\n",
    "\n",
    "details = Seq[0]\n",
    "print(f\"E-value: {details.evalue}\")"
   ]
  },
  {
   "cell_type": "code",
   "execution_count": 17,
   "metadata": {},
   "outputs": [
    {
     "name": "stdout",
     "output_type": "stream",
     "text": [
      "alignment:\n",
      " Alignment with 2 rows and 258 columns\n",
      "IAPGQTGKIADYNYKLPDDFTGCVIAWNSNNLDSKVGGNYNYLY...PIG unnamed\n",
      "IAPGQTGKIADYNYKLPDDFTGCVIAWNSNNLDSKVGGNYNYLY...PIG pdb|8ELJ|A\n"
     ]
    }
   ],
   "source": [
    "print(f\"alignment:\\n {details.aln}\")"
   ]
  },
  {
   "cell_type": "markdown",
   "metadata": {},
   "source": [
    "------------------------------------------------------"
   ]
  },
  {
   "cell_type": "markdown",
   "metadata": {},
   "source": [
    "# 2. ENTREZ"
   ]
  },
  {
   "cell_type": "markdown",
   "metadata": {},
   "source": [
    "### Import Modules"
   ]
  },
  {
   "cell_type": "code",
   "execution_count": 18,
   "metadata": {},
   "outputs": [],
   "source": [
    "from Bio import Entrez"
   ]
  },
  {
   "cell_type": "code",
   "execution_count": 19,
   "metadata": {},
   "outputs": [],
   "source": [
    "# help(Entrez)"
   ]
  },
  {
   "cell_type": "code",
   "execution_count": 20,
   "metadata": {},
   "outputs": [],
   "source": [
    "# Entrez.email = \"datacyclopes@gmail.com\"\n",
    "Entrez.email = \"hamza811998shafiq@gmail.com\""
   ]
  },
  {
   "cell_type": "code",
   "execution_count": 21,
   "metadata": {},
   "outputs": [
    {
     "data": {
      "text/plain": [
       "['pubmed', 'protein', 'nuccore', 'ipg', 'nucleotide', 'structure', 'genome', 'annotinfo', 'assembly', 'bioproject', 'biosample', 'blastdbinfo', 'books', 'cdd', 'clinvar', 'gap', 'gapplus', 'grasp', 'dbvar', 'gene', 'gds', 'geoprofiles', 'homologene', 'medgen', 'mesh', 'nlmcatalog', 'omim', 'orgtrack', 'pmc', 'popset', 'proteinclusters', 'pcassay', 'protfam', 'pccompound', 'pcsubstance', 'seqannot', 'snp', 'sra', 'taxonomy', 'biocollections', 'gtr']"
      ]
     },
     "execution_count": 21,
     "metadata": {},
     "output_type": "execute_result"
    }
   ],
   "source": [
    "handle = Entrez.einfo()\n",
    "record = Entrez.read(handle)\n",
    "record[\"DbList\"]"
   ]
  },
  {
   "cell_type": "markdown",
   "metadata": {},
   "source": [
    "## 2.1. PUBMED"
   ]
  },
  {
   "cell_type": "code",
   "execution_count": 22,
   "metadata": {},
   "outputs": [
    {
     "data": {
      "text/plain": [
       "'PubMed bibliographic record'"
      ]
     },
     "execution_count": 22,
     "metadata": {},
     "output_type": "execute_result"
    }
   ],
   "source": [
    "handle = Entrez.einfo(db=\"pubmed\")\n",
    "record = Entrez.read(handle)\n",
    "record[\"DbInfo\"][\"Description\"]"
   ]
  },
  {
   "cell_type": "code",
   "execution_count": 23,
   "metadata": {},
   "outputs": [
    {
     "data": {
      "text/plain": [
       "'36403977'"
      ]
     },
     "execution_count": 23,
     "metadata": {},
     "output_type": "execute_result"
    }
   ],
   "source": [
    "record[\"DbInfo\"][\"Count\"]"
   ]
  },
  {
   "cell_type": "code",
   "execution_count": 24,
   "metadata": {},
   "outputs": [
    {
     "data": {
      "text/plain": [
       "[]"
      ]
     },
     "execution_count": 24,
     "metadata": {},
     "output_type": "execute_result"
    }
   ],
   "source": [
    "handle = Entrez.esearch(db=\"pubmed\", term=\"biophython\")\n",
    "record = Entrez.read(handle)\n",
    "record[\"IdList\"]"
   ]
  },
  {
   "cell_type": "code",
   "execution_count": 25,
   "metadata": {},
   "outputs": [
    {
     "name": "stdout",
     "output_type": "stream",
     "text": [
      "['Kricka LJ', 'Cornish TC', 'Park JY'] Eponyms in clinical chemistry. 2021 Jan Clinica chimica acta; international journal of clinical chemistry\n",
      "['Ireland SM', 'Martin ACR'] atomium-a Python structure parser. 2020 May 1 Bioinformatics (Oxford, England)\n"
     ]
    }
   ],
   "source": [
    "handle = Entrez.esummary(db=\"pubmed\", id='33242467, 32044951')\n",
    "records = Entrez.parse(handle)\n",
    "\n",
    "\n",
    "for record in records:\n",
    "    print(record['AuthorList'], record[\"Title\"], record[\"PubDate\"], record[\"FullJournalName\"])"
   ]
  },
  {
   "cell_type": "code",
   "execution_count": 26,
   "metadata": {},
   "outputs": [
    {
     "name": "stdout",
     "output_type": "stream",
     "text": [
      "b'<?xml version=\"1.0\" ?>\\n<!DOCTYPE PubmedArticleSet PUBLIC \"-//NLM//DTD PubMedArticle, 1st January 2023//EN\" \"https://dtd.nlm.nih.gov/ncbi/pubmed/out/pubmed_230101.dtd\">\\n<PubmedArticleSet>\\n<PubmedArticle><MedlineCitation Status=\"MEDLINE\" Owner=\"NLM\"><PMID Version=\"1\">19811691</PMID><DateCompleted><Year>2010</Year><Month>02</Month><Day>12</Day></DateCompleted><DateRevised><Year>2021</Year><Month>10</Month><Day>20</Day></DateRevised><Article PubModel=\"Electronic\"><Journal><ISSN IssnType=\"Electronic\">1471-2105</ISSN><JournalIssue CitedMedium=\"Internet\"><Volume>10 Suppl 11</Volume><Issue>Suppl 11</Issue><PubDate><Year>2009</Year><Month>Oct</Month><Day>08</Day></PubDate></JournalIssue><Title>BMC bioinformatics</Title><ISOAbbreviation>BMC Bioinformatics</ISOAbbreviation></Journal><ArticleTitle>Exploratory visual analysis of conserved domains on multiple sequence alignments.</ArticleTitle><Pagination><StartPage>S7</StartPage><MedlinePgn>S7</MedlinePgn></Pagination><ELocationID EIdType=\"doi\" ValidYN=\"Y\">10.1186/1471-2105-10-S11-S7</ELocationID><Abstract><AbstractText Label=\"BACKGROUND\" NlmCategory=\"BACKGROUND\">Multiple alignment of protein sequences can provide insight into sequence conservation across many species and thus allow identification of those sections of the sequence most critical to protein function. This insight can be augmented by joint display of conserved domains along the sequences. By fusing this metadata visually, biologists can analyze sequence conservation and functional motifs simultaneously and efficiently.</AbstractText><AbstractText Label=\"RESULTS\" NlmCategory=\"RESULTS\">We present MSAVis, a new approach combining luminance and hue for simultaneous visualization of conserved motifs and sequence alignment. Input for the algorithm is a multiple sequence alignment in a standard format. The NCBI Conserved Domain Database (CDD) is used for finding conserved domains along the alignment. The visualization quickly identifies conserved domains, and allows both macro (sequence-long) and micro (small amino-acid neighborhood) views.</AbstractText><AbstractText Label=\"CONCLUSION\" NlmCategory=\"CONCLUSIONS\">MSAVis utilizes two visual cues, luminance and hue, to facilitate at-a-glance summary of the conservation of a user-provided protein alignment while enabling multiple comparisons among functional domains. These visual cues are preattentive and separable so that the relationship between conservation strength and domain membership can be understood. The MSAVis software, written in Python and using BioPython and OpenGL, can be found at http://agbase.msstate.edu/tools/MSAVis.html.</AbstractText></Abstract><AuthorList CompleteYN=\"Y\"><Author ValidYN=\"Y\"><LastName>Jankun-Kelly</LastName><ForeName>T J</ForeName><Initials>TJ</Initials><AffiliationInfo><Affiliation>Institute for Digital Biology and Department of Computer Science and Engineering, Bagley College of Engineering, Mississippi State University, Mississippi, USA. tjk@acm.org</Affiliation></AffiliationInfo></Author><Author ValidYN=\"Y\"><LastName>Lindeman</LastName><ForeName>Andrew D</ForeName><Initials>AD</Initials></Author><Author ValidYN=\"Y\"><LastName>Bridges</LastName><ForeName>Susan M</ForeName><Initials>SM</Initials></Author></AuthorList><Language>eng</Language><PublicationTypeList><PublicationType UI=\"D016428\">Journal Article</PublicationType><PublicationType UI=\"D013486\">Research Support, U.S. Gov\\'t, Non-P.H.S.</PublicationType></PublicationTypeList><ArticleDate DateType=\"Electronic\"><Year>2009</Year><Month>10</Month><Day>08</Day></ArticleDate></Article><MedlineJournalInfo><Country>England</Country><MedlineTA>BMC Bioinformatics</MedlineTA><NlmUniqueID>100965194</NlmUniqueID><ISSNLinking>1471-2105</ISSNLinking></MedlineJournalInfo><ChemicalList><Chemical><RegistryNumber>0</RegistryNumber><NameOfSubstance UI=\"D011506\">Proteins</NameOfSubstance></Chemical></ChemicalList><CitationSubset>IM</CitationSubset><MeshHeadingList><MeshHeading><DescriptorName UI=\"D000595\" MajorTopicYN=\"N\">Amino Acid Sequence</DescriptorName></MeshHeading><MeshHeading><DescriptorName UI=\"D019295\" MajorTopicYN=\"N\">Computational Biology</DescriptorName><QualifierName UI=\"Q000379\" MajorTopicYN=\"Y\">methods</QualifierName></MeshHeading><MeshHeading><DescriptorName UI=\"D030562\" MajorTopicYN=\"N\">Databases, Protein</DescriptorName></MeshHeading><MeshHeading><DescriptorName UI=\"D008969\" MajorTopicYN=\"N\">Molecular Sequence Data</DescriptorName></MeshHeading><MeshHeading><DescriptorName UI=\"D017434\" MajorTopicYN=\"Y\">Protein Structure, Tertiary</DescriptorName></MeshHeading><MeshHeading><DescriptorName UI=\"D011506\" MajorTopicYN=\"N\">Proteins</DescriptorName><QualifierName UI=\"Q000737\" MajorTopicYN=\"N\">chemistry</QualifierName></MeshHeading><MeshHeading><DescriptorName UI=\"D016415\" MajorTopicYN=\"Y\">Sequence Alignment</DescriptorName></MeshHeading><MeshHeading><DescriptorName UI=\"D020539\" MajorTopicYN=\"N\">Sequence Analysis, Protein</DescriptorName><QualifierName UI=\"Q000379\" MajorTopicYN=\"Y\">methods</QualifierName></MeshHeading></MeshHeadingList></MedlineCitation><PubmedData><History><PubMedPubDate PubStatus=\"entrez\"><Year>2009</Year><Month>10</Month><Day>9</Day><Hour>6</Hour><Minute>0</Minute></PubMedPubDate><PubMedPubDate PubStatus=\"pubmed\"><Year>2009</Year><Month>10</Month><Day>14</Day><Hour>6</Hour><Minute>0</Minute></PubMedPubDate><PubMedPubDate PubStatus=\"medline\"><Year>2010</Year><Month>2</Month><Day>13</Day><Hour>6</Hour><Minute>0</Minute></PubMedPubDate></History><PublicationStatus>epublish</PublicationStatus><ArticleIdList><ArticleId IdType=\"pubmed\">19811691</ArticleId><ArticleId IdType=\"pmc\">PMC3226196</ArticleId><ArticleId IdType=\"doi\">10.1186/1471-2105-10-S11-S7</ArticleId><ArticleId IdType=\"pii\">1471-2105-10-S11-S7</ArticleId></ArticleIdList><ReferenceList><Reference><Citation>Larkin M, Blackshields G, Brown N, Chenna R, McGettigan P, McWilliam H, Valentin F, Wallace I, Wilm A, Lopez R, Thompson J, Gibson T, Higgins D. ClustalW and ClustalX version 2. Bioinformatics. 2007;23(21):2947&#x2013;2948. doi: 10.1093/bioinformatics/btm404.</Citation><ArticleIdList><ArticleId IdType=\"doi\">10.1093/bioinformatics/btm404</ArticleId><ArticleId IdType=\"pubmed\">17846036</ArticleId></ArticleIdList></Reference><Reference><Citation>A Conserved Domain Database and Search Service. http://www.ncbi.nlm.nih.gov/Structure/cdd/cdd.shtml</Citation></Reference><Reference><Citation>Marchler-Bauer A, Anderson J, Cherukuri P, DeWeese-Scott C, Geer L, Gwadz M, He S, Hurwitz D, Jackson J, Ke Z, Lanczycki C, Liebert C, Liu C, Lu F, Marchler G, Mullokandov M, Shoemaker B, Simonyan V, Song J, Thiessen P, Yamashita R, Yin J, Zhang D, Bryant S. CDD: A Conserved Domain Database for protein classification. Nucleic Acids Research. 2005. pp. D192&#x2013;D196.</Citation><ArticleIdList><ArticleId IdType=\"pmc\">PMC540023</ArticleId><ArticleId IdType=\"pubmed\">15608175</ArticleId></ArticleIdList></Reference><Reference><Citation>Lungu M, Xu K.  In: Human-Centered Visualization Environments, Volume 4417 of Lecture Notes in Computer Science. Kerren A, Ebert A, Meyer J, editor. Springer; 2006. Biomedical Information Visualization; pp. 311&#x2013;342.http://dx.doi.org/10.1007/978-3-540-71949-6_8</Citation><ArticleIdList><ArticleId IdType=\"doi\">10.1007/978-3-540-71949-6_8</ArticleId></ArticleIdList></Reference><Reference><Citation>Schneider TD, Stephens RM. Sequence Logos: A New Way to Display Consensus Sequences. Nucleic Acids Research. 1990;18:6097&#x2013;6100. doi: 10.1093/nar/18.20.6097.</Citation><ArticleIdList><ArticleId IdType=\"doi\">10.1093/nar/18.20.6097</ArticleId><ArticleId IdType=\"pmc\">PMC332411</ArticleId><ArticleId IdType=\"pubmed\">2172928</ArticleId></ArticleIdList></Reference><Reference><Citation>Slack J, Hildebrand K, Munzner T, John KS. In: Proceedings of the German Conference on Bioinformatics. Giegerich R, Stoye J, editor. Vol. 53. 2004. SequenceJuxtaposer: Fluid Navigation For Large-Scale Sequence Comparison in Context; pp. 37&#x2013;42.</Citation></Reference><Reference><Citation>Mayor C, Brudno M, Schwartz JR, Poliakov A, Rubin EM, Frazer KA, Pachter LS, Dubchak I. VISTA: Visualizing Global DNA Sequence Alignments of Arbitrary Length. Bioinformatics. 2000;16(11):1046&#x2013;1047. doi: 10.1093/bioinformatics/16.11.1046.</Citation><ArticleIdList><ArticleId IdType=\"doi\">10.1093/bioinformatics/16.11.1046</ArticleId><ArticleId IdType=\"pubmed\">11159318</ArticleId></ArticleIdList></Reference><Reference><Citation>Shah N, Couronne O, Pennacchio LA, Brudno M, Batzoglou S, Bethel EW, Rubin EM, Hamann B, Dubchak I. Phylo-VISTA: Interactive visualization of multiple DNA sequence alignments. Bioinformatics. 2004;20(5):636&#x2013;643. doi: 10.1093/bioinformatics/btg459.</Citation><ArticleIdList><ArticleId IdType=\"doi\">10.1093/bioinformatics/btg459</ArticleId><ArticleId IdType=\"pubmed\">15033870</ArticleId></ArticleIdList></Reference><Reference><Citation>Spell R, Brady R, Dietrich F. BARD: A visualization tool for biological sequence analysis. IEEE Symposium on Information Visualization 2003. 2003. pp. 219&#x2013;225.</Citation></Reference><Reference><Citation>InterPro. http://www.ebi.ac.uk/interpro/</Citation></Reference><Reference><Citation>Hunter S, Apweiler R, Attwood TK, Bairoch A, Bateman A, Binns D, Bork P, Das U, Daugherty L, Duquenne L, Finn RD, Gough J, Haft D, Hulo N, Kahn D, Kelly E, Laugraud A, Letunic I, Lonsdale D, Lopez R, Madera M, Maslen J, McAnulla C, McDowall J, Mistry J, Mitchell A, Mulder N, Natale D, Orengo C, Quinn AF, Selengut JD, Sigrist CJA, Thimma M, Thomas PD, Valentin F, Wilson D, Wu CH, Yeats C. InterPro: The integrative protein signature database. Nucleic Acids Research. 2009. pp. D211&#x2013;D215.</Citation><ArticleIdList><ArticleId IdType=\"doi\">10.1093/nar/gkn785</ArticleId><ArticleId IdType=\"pmc\">PMC2686546</ArticleId><ArticleId IdType=\"pubmed\">18940856</ArticleId></ArticleIdList></Reference><Reference><Citation>Consortium TU. The Universal Protein Resource (UniProt) Nucleic Acids Research. 2008. pp. D190&#x2013;D195.</Citation><ArticleIdList><ArticleId IdType=\"pmc\">PMC2238893</ArticleId><ArticleId IdType=\"pubmed\">18045787</ArticleId></ArticleIdList></Reference><Reference><Citation>UniProt. http://www.uniprot.org/</Citation></Reference><Reference><Citation>Clamp M, Cuff J, Searle S, Barton G. The Jalview Java alignment editor. Bioinformatics. 2004;20(3):426&#x2013;427. doi: 10.1093/bioinformatics/btg430.</Citation><ArticleIdList><ArticleId IdType=\"doi\">10.1093/bioinformatics/btg430</ArticleId><ArticleId IdType=\"pubmed\">14960472</ArticleId></ArticleIdList></Reference><Reference><Citation>Felsensein J. PHYLIP. http://evolution.genetics.washington.edu/phylip.html</Citation></Reference><Reference><Citation>Henikoff S, Henikoff JG. Amino acid substitution matrices from protein blocks. Proc Natl Acad Sci USA. 1992;89(22):10915&#x2013;10919. doi: 10.1073/pnas.89.22.10915.</Citation><ArticleIdList><ArticleId IdType=\"doi\">10.1073/pnas.89.22.10915</ArticleId><ArticleId IdType=\"pmc\">PMC50453</ArticleId><ArticleId IdType=\"pubmed\">1438297</ArticleId></ArticleIdList></Reference><Reference><Citation>McLaren K. The development of the CIE 1976 (L*a*b*) uniform colour-space and colour-difference formula. Journal of the Society of Dyers and Colourists. 1976;92:338&#x2013;341.</Citation></Reference><Reference><Citation>Ware C. Information Visualization: Perception for Design. 2. Morgan Kaufmann; 2004.</Citation></Reference><Reference><Citation>Pirolli P, Card SK. Information Foraging. Psychological Review. 1999;4:643&#x2013;674. doi: 10.1037/0033-295X.106.4.643.</Citation><ArticleIdList><ArticleId IdType=\"doi\">10.1037/0033-295X.106.4.643</ArticleId></ArticleIdList></Reference><Reference><Citation>Cock P, Antao T, Chang J, Chapman B, Cox C, Dalke A, Friedberg I, Hamelryck T, Kauff F, Wilczynski B, de Hoon M. Biopython: Freely available Python tools for computational molecular biology and bioinformatics. Bioinformatics. 2009;25(11):1422&#x2013;1423. doi: 10.1093/bioinformatics/btp163.</Citation><ArticleIdList><ArticleId IdType=\"doi\">10.1093/bioinformatics/btp163</ArticleId><ArticleId IdType=\"pmc\">PMC2682512</ArticleId><ArticleId IdType=\"pubmed\">19304878</ArticleId></ArticleIdList></Reference><Reference><Citation>PyOpenGL. http://pyopengl.sourceforge.net/</Citation></Reference><Reference><Citation>wxPython. http://wxpython.org/</Citation></Reference><Reference><Citation>McCarthy F, Wang N, Magee G, Nanduri B, Lawrence M, Camon E, Burrell D, Hill D, Dolan M, Williams W, Luthe D, Bridges S, Burgess S. AgBase: A Functional Genomics Resource for Agriculture. BMC Genomics. 2006;7(229)</Citation><ArticleIdList><ArticleId IdType=\"pmc\">PMC1618847</ArticleId><ArticleId IdType=\"pubmed\">16961921</ArticleId></ArticleIdList></Reference><Reference><Citation>MSAVis. http://agbase.msstate.edu/tools/MSAVis.html</Citation></Reference><Reference><Citation>Bailey TL, Boden M, Buske FA, Frith M, Grant CE, Clementi L, Ren J, Li WW, Noble WS. MEME SUITE: Tools for motif discovery and searching. Nucleic Acids Research. 2009. http://dx.doi.org/10.1093/nar/gkp335</Citation><ArticleIdList><ArticleId IdType=\"doi\">10.1093/nar/gkp335</ArticleId><ArticleId IdType=\"pmc\">PMC2703892</ArticleId><ArticleId IdType=\"pubmed\">19458158</ArticleId></ArticleIdList></Reference><Reference><Citation>The MEME Suite. http://meme.nbcr.net/</Citation></Reference><Reference><Citation>Nicholas KB, Nicholas HB, Deerfield DW. GeneDoc: Analysis and visualization of genetic variation. EMBNEW NEWS. 1997;4:14.</Citation></Reference><Reference><Citation>GeneDoc. http://www.nrbsc.org/gfx/genedoc/</Citation></Reference><Reference><Citation>Hall T. BioEdit Sequence Alignment Editor. http://www.mbio.ncsu.edu/BioEdit/bioedit.html</Citation></Reference></ReferenceList></PubmedData></PubmedArticle></PubmedArticleSet>'\n"
     ]
    }
   ],
   "source": [
    "handle = Entrez.efetch(db=\"pubmed\", id=\"19811691\")\n",
    "print(handle.read())"
   ]
  },
  {
   "cell_type": "markdown",
   "metadata": {},
   "source": [
    "## 2.2. Nucleotide"
   ]
  },
  {
   "cell_type": "code",
   "execution_count": 27,
   "metadata": {},
   "outputs": [
    {
     "data": {
      "text/plain": [
       "['2607840939', '2607840925', '2607840910', '2607840894', '2607840879', '2607840864', '2607840849', '2607840834', '2607840818', '2607840803']"
      ]
     },
     "execution_count": 27,
     "metadata": {},
     "output_type": "execute_result"
    }
   ],
   "source": [
    "handle = Entrez.esearch(db=\"nucleotide\", retmax=\"10\", term=\"Severe acute respiratory syndrome coronavirus\")\n",
    "record = Entrez.read(handle)\n",
    "record[\"IdList\"]"
   ]
  },
  {
   "cell_type": "code",
   "execution_count": 29,
   "metadata": {
    "scrolled": true
   },
   "outputs": [
    {
     "name": "stdout",
     "output_type": "stream",
     "text": [
      "LOCUS       OR751169               29438 bp    RNA     linear   VRL 30-OCT-2023\n",
      "DEFINITION  Severe acute respiratory syndrome coronavirus 2 isolate\n",
      "            SARS-CoV-2/human/USA/TN-SPHL-9726/2023 ORF1ab polyprotein (ORF1ab)\n",
      "            and ORF1a polyprotein (ORF1ab) genes, partial cds; surface\n",
      "            glycoprotein (S), ORF3a protein (ORF3a), envelope protein (E),\n",
      "            membrane glycoprotein (M), and ORF6 protein (ORF6) genes, complete\n",
      "            cds; ORF7a protein (ORF7a) and ORF8 protein (ORF8) genes, partial\n",
      "            cds; and nucleocapsid phosphoprotein (N) and ORF10 protein (ORF10)\n",
      "            genes, complete cds.\n",
      "ACCESSION   OR751169\n",
      "VERSION     OR751169.1\n",
      "DBLINK      BioProject: PRJNA732685\n",
      "            BioSample: SAMN38041194\n",
      "KEYWORDS    .\n",
      "SOURCE      Severe acute respiratory syndrome coronavirus 2 (SARS-CoV-2)\n",
      "  ORGANISM  Severe acute respiratory syndrome coronavirus 2\n",
      "            Viruses; Riboviria; Orthornavirae; Pisuviricota; Pisoniviricetes;\n",
      "            Nidovirales; Cornidovirineae; Coronaviridae; Orthocoronavirinae;\n",
      "            Betacoronavirus; Sarbecovirus; Severe acute respiratory\n",
      "            syndrome-related coronavirus.\n",
      "REFERENCE   1  (bases 1 to 29438)\n",
      "  AUTHORS   Martin,A. and Anderson,N.M.\n",
      "  TITLE     Direct Submission\n",
      "  JOURNAL   Submitted (30-OCT-2023) Nashville Central and Knoxville Regional\n",
      "            Labs, FDA CVM NARMS - Tennesse DOH, 630 Hart Lane, Nashville, TN\n",
      "            37216, USA\n",
      "COMMENT     ##Assembly-Data-START##\n",
      "            Assembly Method       :: bwa-mem v. 07.17; Ivar v. 1.3.1\n",
      "            Sequencing Technology :: Illumina\n",
      "            ##Assembly-Data-END##\n",
      "FEATURES             Location/Qualifiers\n",
      "     source          1..29438\n",
      "                     /organism=\"Severe acute respiratory syndrome coronavirus\n",
      "                     2\"\n",
      "                     /mol_type=\"genomic RNA\"\n",
      "                     /isolate=\"SARS-CoV-2/human/USA/TN-SPHL-9726/2023\"\n",
      "                     /isolation_source=\"clinical\"\n",
      "                     /host=\"Homo sapiens\"\n",
      "                     /db_xref=\"taxon:2697049\"\n",
      "                     /country=\"USA: TN\"\n",
      "                     /collection_date=\"2023-06-21\"\n",
      "                     /note=\"GISAID accession: EPI_ISL_18401345\"\n",
      "     gene            <1..21204\n",
      "                     /gene=\"ORF1ab\"\n",
      "     CDS             join(<1..13117,13117..21204)\n",
      "                     /gene=\"ORF1ab\"\n",
      "                     /ribosomal_slippage\n",
      "                     /codon_start=2\n",
      "                     /product=\"ORF1ab polyprotein\"\n",
      "                     /protein_id=\"WOP80463.1\"\n",
      "                     /translation=\"LVRGFGDSVEEVLSEARQHLRDGTCGLVEVEKGVLPQLEQPYVF\n",
      "                     IKRSDARTAPHGHVMVELVAELEGIQYGRSGETLGVLVPHVGEIPVAYRKVLLRKNGN\n",
      "                     KGAGGHRYGADLKSFDLGDELGTDPYEDFQENWNTKHSSGVTRELMRELNGGAYTRYV\n",
      "                     DNNFCGPDGYPLECIKDLLARAGKASCTLSEQLDFIDTKRGVYCCREHEHEIAWYTER\n",
      "                     SEKSYELQTPFEIKLAKKFDTFNGECPNFVFPLNSIIKTIQPRVEKKKLDGFMGRIRS\n",
      "                     VYPVASPNECNQMCLSTLMKCDHCGETSWQTGDFVKATCEFCGTENLTKEGATTCGYL\n",
      "                     PQNAVVKIYCPACHNSEVGPEHSLAEYHNESGLKTILRKGGRTIAFGGCVFSYVGCHN\n",
      "                     KCAYWVPRASANIGCNHTGVVGEGSEGLNDNLLEILQKEKVNINIVGDFKLNEEIAII\n",
      "                     LASFSASTSAFVETVKGLDYKAFKQIVESCGNFKVTKGKAKKGAWNIGEQKSILSPLY\n",
      "                     AFASEAARVVRSIFSRTLETAQNSVRVLQKAAITILDGISQYSLRLIDAMMFTSDLAT\n",
      "                     NNLVVMAYITGGVVQLTSQWLTNIFGTVYEXXXXXXXXXXXXXXXXXXXXXXXXXXVK\n",
      "                     FISTCACEIVGGQIVTCAKEIKESVQTFFKLVNKFLALCADSIIIGGAKLKALNLGET\n",
      "                     FVTHSKGLYRKCVKSREETGLLMPLKAPKEIIFLEGETLPTEVLTEEVVLKTGDLQPL\n",
      "                     EXXXXXXXXXXXXXXXXXXXXXXXXXXXXXXXXXXXXXXXXXXXXXXXXXXXXXXXXX\n",
      "                     XXXXXXXXXXXXXXXXXXXXXXXXXXXXXXXXXXXXXXELGTEVNEFACVVADAVIKT\n",
      "                     LQPVSELLTPLGIDLDEWSMATYYLFDESGEFKLASHMYCSFYPPDEDEEEGDCEEEE\n",
      "                     FEPSTQYEYGTEDDYQGKPLEFGATSAALQPEEEQEEDWLDDDSQQTVGQQDGSEDNQ\n",
      "                     TTTIQTIVEVQPQLEMELTPVVQTIEVNSFSGYLKLTDNVYIKNADIVEEAKKVKPTV\n",
      "                     VVNAANVYLKHGGGVAGALNKATNNAMQVESDDYIATNGPLKVGGSCVLSGHNLAKHC\n",
      "                     LHVVGPNVNKGEDIQLLKSAYENFNQHEVLLAPLLSAGIFGADPIHSLRVCVDTVRTN\n",
      "                     VYLAVFDKNLYDKLVSSFLEMKSEKQVEQKIAEIPKEEVKPFITESKPSVEQRKQDDK\n",
      "                     KIKACVEEVTTTLEETKFLTENLLLYIDINGNLHPDSATLVSDIDITFLKKDAPYIVG\n",
      "                     DVVQEGVLTAVVIPTKKASGTTEMLAKALRKVPTDNYITTYPGQGLNGYTVEEAKTVL\n",
      "                     KKCKSAFYILPSIISNEKQEILGTVSWNLREMLAHAEETXXXXXXXXXXXXXXXXXXX\n",
      "                     XXXXXXXXXXXXXXXXXXXXXXXXXXXXXXXXXXXXXXXXXXXXXXXXXXXXXXXXXX\n",
      "                     XXXMRSLKVPATVSVSSPDAVTAYNGYLTSSSKTPEEHFIETISLAGSYKDWSYSGQS\n",
      "                     TQLGIEFLKRGDKSVYYTSNPTTFHLDGEVITFDNLKTLLSLREVRTIKVFTTVDNIN\n",
      "                     LHTQVVDMSMTYGQQFGPTYLDGADVTKIKPHNSHEGKTFYVLPNDDTLRVEAFEYYH\n",
      "                     TTDPSFLGRYMSALNHTKKWKYPQVNGLTSIKWADNNCYLATALLTLQQIELKFNPPA\n",
      "                     LQDAYYRARAGEAANFCALILAYCNKTVGELGDVRETMSYLFQHANLDSCKRVLNVVC\n",
      "                     KTCGQQQTTLKGVEAVMYMGTLSYEQFKKGVQIPCTCGKQATKYLVQQESPFVMMSAP\n",
      "                     PAQYELKHGTFTCASEYTGNYQCGHYKHITSKETLYCIDGALLTKSSEYKGPITDVFY\n",
      "                     KENSYTTTIKPVTYKLDGVVCTEIDPKLDNYYKKDNSYFTEQPIDLVPNQPYPNASFD\n",
      "                     NFKFVCDNIKFADDLNQLTGYKKPASRELKVTFFPDLNGDVVAIDYKHYTPSFKKGAK\n",
      "                     LLHKPIVWHVNNATNKATYKPNTWCIRCLWSTKPVETSNSFDVLKSEDAQGMDNLACE\n",
      "                     DLKPVSEEVVENPTIQKDVLECNVKTTEVVGDIILKPANNSLKITEEVGHTDLMVAYV\n",
      "                     DNSSLTIKKPNELSRVLGLKTLATHGLAAVNSVPWDTIANYAKPFLNKVVSTTTNIVT\n",
      "                     RCLNRVCTNYMPYFFTLLLQLCTFTRSTNSRIKASMPTTIAKNTVKSVGKFCLEASFN\n",
      "                     YLKSPNFSKLINIIIWFLLLSVCLGSLIYSTAALGVLMSNLGMPSYCTXYREGYLNST\n",
      "                     NVTIATYCTGSIPCSVCLSGLDSLDTYPSLETIQITISSFKWDLTAFGLVAEWFLAYI\n",
      "                     LFTRFFYVLGLAAIMQLFFSYFAVHFISNSWLMWLIINLVQMAPISAMVRMYIFFASF\n",
      "                     YYVWKSYVHVVDGCNSSTCMMCYKRNRATRVECTTIVNGVRRSFYVYANGGKGFCKLH\n",
      "                     NWNCVNCDTFCAGSTFISDEVARDLSLQFKRPINPTDQSSYIVDSVTVKNGSIHLYFD\n",
      "                     KAGQKTYERHSLSHFVNLDNLRANNTKGSLPINVIVFDGKSKCEESSAKSASVYYSQL\n",
      "                     MCQPILLLDQALVSDVGDSAEVAVKMFDAYVNTFSSTFNVPMEKLKTLVATAEAELAK\n",
      "                     NVSLDNVLSTFISAARQGFVDSDVETKDVVECLKLSHQSDIEVTGDSCNNYMLTYNKV\n",
      "                     ENMTPRDLGACIDCSARHINAQVAKSHNIALIWNVKDFMSLSEQLRKQIRSAAKKNNL\n",
      "                     PFKLTCATTRQVVNVVTTKIALKGGKIVNNWLKQLIKVTLVFLFVAAIFYLIXXXXXX\n",
      "                     XXXXXXXXXXXXXXXXXXXXXXXXXXXXXXXXXXXXXXXXXXXXXXXXXXXXXXXXXX\n",
      "                     XXXXXXXXXXXXXXXXXXXXXXXXXXXXXFLPRVFSAVGNICYTPSKLIEYTDFATSA\n",
      "                     CVLAAECTIFKDASGKPVPYCYDTNVLEGSVAYESLRPDTRYVLMDGSIIQFPNTYLE\n",
      "                     GSVRVVTTFDSEYCRHGTCERSEXXXXXXXXXXXXXXXXXXXXXXXXXXXXXXXXXXX\n",
      "                     XXXXXXXXXXXXXXXXXXXXXXXXXXXXXXXXXXXXXXXXXXXXXXXXXXXFNTLLFL\n",
      "                     MSFIVLCLTPVYSFLPGVYSVIYLYLTFYLTNDVSFLAHIQWMVMFTPLVPFWITIAY\n",
      "                     IICISTKHFYWFFSNYLKRRVVFNGVSFSTFEEAALCTFLLNKEMYLKLRSDVLLPFT\n",
      "                     QYNRYLALYNKYKYFSGAMDTTSYREAACCHLAKALNDFSNSGSDVLYQPPQISITSA\n",
      "                     VLQSGFRKMAFPSGKVEGCMVQVTXXXTTLNGXXXXXXXXXXXXXXXXXXXXXXPNYE\n",
      "                     DLLIRKSNHNFLVQAGNVQLRVIGHSMQNCVLKLKVDTANPKTPKYKFVRIQPGQTFS\n",
      "                     VLACYNGSPSGVYQCAMRHNFTIKGSFLNGSCGSVGFNIDYDCVSFCYMHHMELPTGV\n",
      "                     HAGTDLEGNFYGPFVDRQTAQAAGTDTTITVNVLAWLYAAVINGDRWFLNRFTTTLND\n",
      "                     FNLVAMKYNYEPLTQDHVDILGPLSAQTGIAVLDMCASLKELLQNGMNGRTILGSALL\n",
      "                     EDEFTPFDVVRQCSGVTFQSAVKRTIKGTHHWLLLTILTSLLVLVQSTQWSLFFFLYE\n",
      "                     NAFLPFAMGIIAMSAFAMMFVKHKHAFLCLFLLPSLATVAYFNMVYMPASWVMRIMTW\n",
      "                     LDMVDTSLKLKDCVMYASAVVLLILMTARTVYDDGARRVWTLMNVLTLVYKVYYGNAL\n",
      "                     DQAISMWALIISVTSNYSGVVTTVMFLARGIVFMCVEYCPIFFITGNTLQCIMLVYCF\n",
      "                     LGYFCTCYFGLFCLLNRYFRLTLGVYDYLVSTQEFRYMNSQGLLPPKNSIDAFKLNIK\n",
      "                     LLGVGGKPCIKVATVQSKMSDVKCTSVVLLSVLQQLRVESSSKLWAQCVQLHNDILLA\n",
      "                     KDTTEAFEKMVSLLSVLLSMQGAVDINKLCEEMLDNRATLQAIASEFSSLPSYAAFAT\n",
      "                     AQEAYEQAVANGDSEVVLKKLKKSLNVAKSEFDRDAAMQRKLEKMADQAMTQMYKQAR\n",
      "                     SEDKRAKVTSAMQTMLFTMLRKLDNDALNNIINNARDGCVPLNIIPLTTAAKLMVVIP\n",
      "                     DYNTYKNTCDGTTFTYASALWEIQQVVDADSKIVQLSEISMDNSPNLAWPLIVTALRA\n",
      "                     NSAVKLQNNELSPVALRQMSCAAGTTQTACTDDNALAYYNTTKGGRFVLALLSDLQDL\n",
      "                     KWARFPKSDGTGTIYTELEPPCRFVTDTPKGPKVKYLYFIKGLNNLNRGMVLGSLAAT\n",
      "                     VRLQAGNATEVPANSTVLSFCAFAVDAAKAYKDYLASGGQPITNCVKMLCTHTGTGQA\n",
      "                     ITVTPEANMDQESFGGASCCLYCRCHIDHPNPKGFCDLKGKYVQIPTTCANDPVGFTL\n",
      "                     KNTVCTVCGMWKGYGCSCDQLREPMLQSADAQSFLNRVCGVSAARLTPCGTGTSTDVV\n",
      "                     YRAFDIYNDKVAGFAKFLKTNCCRFQEKDEDDNLIDSYFVVKRHTFSNYQHEETIYNL\n",
      "                     LKDCPAVAKHDFFKFRIDGDMVPHISRQRLTKYTMADLVYALRHFDEGNCDTLKEILV\n",
      "                     TYNCCDDDYFNKKDWYDFVENPDILRVYANLGERVRQALLKTVQFCDAMRNAGIVGVL\n",
      "                     TLDNQDLNGNWYDFGDFIQTTPGSGVPVVDSYYSLLMPILTLTRALTAESHVDTDLTK\n",
      "                     PYIKWDLLKYDFTEERLKLFDRYFKYWDQTYHPNCVNCLDDRCILHCANFNVLFSTVF\n",
      "                     PLTSFGPLVRKIFVDGVPFVVSTGYHFRELGVVHNQDVNLHSSRLSFKELLVYAADPA\n",
      "                     MHAASGNLLLDKRTTCFSVAALTNNVAFQTVKPGNFNKDFYDFAVSKGFFKEGSSVEL\n",
      "                     KHFFFAQDGNAAISDYDYYRYNLPTMCDIRQLLFVVEVVDKYFDCYDGGCINANQVIV\n",
      "                     NNLDKSAGFPFNKWGKARLYYDSMSYEDQDALFAYTKRNVIPTITQMNLKYAISAKNR\n",
      "                     ARTVAGVSICSTMTXXXXXXXXXXXXXXXXXXTVVIGTSKFYGGWHNMLKTVYSDVEN\n",
      "                     PHLMGWDYPKCDRAMPNMLRIMASLVLARKHTTCCSLSHRFYRLANECAQVLSEMVMC\n",
      "                     GSSLYVKPGGTSSGDATTAYANSVFNICQAVTANVNALLSTDGNKIADKYVRNLQHRL\n",
      "                     YECLYRNRDVDTDFVNEFYAYLRKHFSMMILSDDAVVCFNSTYASQGLVASIKNFKSV\n",
      "                     LYYQNNVFMSEAKCWTETDLTKGPHEFCSQHTMLVKQGDDYVYLPYPDPSRILGAGCF\n",
      "                     VDDIVKTDGTLMIERFVSLAIDAYPLTKHPNQEYADVFHLYLQYIRKLHDELTGHMLD\n",
      "                     MYSVMLTNDNTSRYWEPEFYEAMYTPHTVLQAVGACVLCNSQTSLRCGACIRRPFLCC\n",
      "                     KCCYDHVIPTSHKLVLSVNPYVCNAPGCDVTDVTQLYLGGMSYYCKSHKPPISFPLCA\n",
      "                     NGQVFGLYKNTCVGSDNVTDFNAIATCDWTNAGDYILANTCTERLKLFAAETLKATEE\n",
      "                     TFKLSYGIATVREVLSDRELHLSWEVGKPRPPLNRNYVFTGYRVTKNSKVQIGEYTFE\n",
      "                     KGDYGDAVVYRGTTTYKLNVGDYFVLTSHTVMPLSAPTLVPQEHYVRITGLYPTLNIS\n",
      "                     DEFSSNVANYQKVGMQKYSTLQGPPGTGKSHFAIGLALYYPSARIVYTACSHAAVDAL\n",
      "                     CEKALKYLPIDKCSRIIPARARVECFDKFKVNSTLEQYVFCTVNALPETTADIVVFDE\n",
      "                     ISMATNYDLSVVNARLCAKHYVYIGDPAQLPAPRTLLTKGTLEPEYFNSVCRLMKTIG\n",
      "                     PDMFLGTCRRCPAEIVDTVSALVYDNKLKAHKDKSAQCFKMFYKGVITHDVSSAINRP\n",
      "                     QIGVVREFLTRNPAWRKAVFISPYNSQNAVASKILGLPTQTVDSSQGSEYDYVIFTQT\n",
      "                     TETAHSCNVNRFNVAITRAKVGILCIMSDRDLYDKLQFTSLEIPRRNVATLQAENVTG\n",
      "                     LFKDCSKVITGLHPTQAPTHLSVDTKFKTEGLCVDVPGIPKDMTYRRLISMMGFKMNY\n",
      "                     QVNGYPNMFITREEAIRHVRAWIGFDVEGCHATREAVGTNLPLQLGFSTGVNLVAVPT\n",
      "                     GYVDTPNNTDFSRVSAKPPPGDQFKHLIPLMYKGLPWNVVRIKIVQMLSDTLKNLSDR\n",
      "                     VVFVLWAHGFELTSMKYFVKIGPERTCCLCDRRATCFSTASDTYACWHHSIGFDYVYN\n",
      "                     PFMIDVQQWGFTGNLQSNHDLYCQVHGNAHVASCDAIMTRCLAVHECFVKRVDWTIEY\n",
      "                     PIIGDELKINAACRKVQHMVVKAALLADKFPVLHDIGNPKAIKCVPQADVEWKFYDAQ\n",
      "                     PCSDKAYKIEELFYSYATHSDKFTDGVCLFWNCNVDRYPANSIVCRFDTRVLSNLNLP\n",
      "                     XXXXXXXXXXXXXXXXXXXXXXXXXXXXXXXXXXXXXXXXXXXXXXXXXXXXXXXXXX\n",
      "                     XXXXXXXXXXXXXXXXXXXXXXXXXXXXXXXXXXXXXXXXXKQFDTYNLWNTFTRLQS\n",
      "                     LENVAFNVVNKGHFDGQQGEVPVSIINNTVYTKVDGVDVELFENKTTLPVNVAFELWA\n",
      "                     KRNIKPVPEVKILNNLGVDIAANTVIWDYKRDAPAHISTIGVCSMTDIAKKPIETICA\n",
      "                     PLTVFFDGRVDGQVDLFRNARNGVLITEGSVKGLQPSVGPKQASLNGVTLIGEAVKTQ\n",
      "                     FNYYKKVDGVVQQLPETYFTQSRNLQEFKPRSQMEIDFLELAMDEFIERYKLEGYAFE\n",
      "                     HIVYGDFSHSQLGGLHLLIGLAKRFKESPFELEDFIPMDSTVKNYFITDAQTGSSKCV\n",
      "                     CSVIDLLLDDFVEIIKSQDLSVVSKVVKVTIDYTEISFMLWCKDGHVETFYPKLQSSQ\n",
      "                     AWQPGVAMPNLYKMQRMLLEKCDLQNYGDSATLPKGIMMNVAKYTQLCQYLNTLTLAV\n",
      "                     PYNMRVIHFGAGSDKGVAPGTAVLRQWLPTGTLLVDSDLNDFVSDADSTLIGDCATVH\n",
      "                     TANKWDLIISDMYDPKTKNVTKENDSKEGFFTYICGFIQQKLALGGSVAIKITEHSWN\n",
      "                     ADLYKLMGHFAWWTAFVTNVNASSSEAFLIGCNYLGKPREQIDGYVMHANYIFWRNTN\n",
      "                     PIQLSSYSLFDMSKFPLKLRGTAVMSLKEGQINDMILSLLSKGRLIIRENNRVVISSD\n",
      "                     VLVNN\"\n",
      "     mat_peptide     <1..463\n",
      "                     /gene=\"ORF1ab\"\n",
      "                     /product=\"leader protein\"\n",
      "     mat_peptide     464..2377\n",
      "                     /gene=\"ORF1ab\"\n",
      "                     /product=\"nsp2\"\n",
      "     mat_peptide     2378..8212\n",
      "                     /gene=\"ORF1ab\"\n",
      "                     /product=\"nsp3\"\n",
      "     mat_peptide     8213..9712\n",
      "                     /gene=\"ORF1ab\"\n",
      "                     /product=\"nsp4\"\n",
      "     mat_peptide     9713..10630\n",
      "                     /gene=\"ORF1ab\"\n",
      "                     /product=\"3C-like proteinase\"\n",
      "     mat_peptide     10631..11491\n",
      "                     /gene=\"ORF1ab\"\n",
      "                     /product=\"nsp6\"\n",
      "     mat_peptide     11492..11740\n",
      "                     /gene=\"ORF1ab\"\n",
      "                     /product=\"nsp7\"\n",
      "     mat_peptide     11741..12334\n",
      "                     /gene=\"ORF1ab\"\n",
      "                     /product=\"nsp8\"\n",
      "     mat_peptide     12335..12673\n",
      "                     /gene=\"ORF1ab\"\n",
      "                     /product=\"nsp9\"\n",
      "     mat_peptide     12674..13090\n",
      "                     /gene=\"ORF1ab\"\n",
      "                     /product=\"nsp10\"\n",
      "     mat_peptide     join(13091..13117,13117..15885)\n",
      "                     /gene=\"ORF1ab\"\n",
      "                     /product=\"RNA-dependent RNA polymerase\"\n",
      "     mat_peptide     15886..17688\n",
      "                     /gene=\"ORF1ab\"\n",
      "                     /product=\"helicase\"\n",
      "     mat_peptide     17689..19269\n",
      "                     /gene=\"ORF1ab\"\n",
      "                     /product=\"3'-to-5' exonuclease\"\n",
      "     mat_peptide     19270..20307\n",
      "                     /gene=\"ORF1ab\"\n",
      "                     /product=\"endoRNAse\"\n",
      "     mat_peptide     20308..21201\n",
      "                     /gene=\"ORF1ab\"\n",
      "                     /product=\"2'-O-ribose methyltransferase\"\n",
      "     CDS             <1..13132\n",
      "                     /gene=\"ORF1ab\"\n",
      "                     /codon_start=2\n",
      "                     /product=\"ORF1a polyprotein\"\n",
      "                     /protein_id=\"WOP80464.1\"\n",
      "                     /translation=\"LVRGFGDSVEEVLSEARQHLRDGTCGLVEVEKGVLPQLEQPYVF\n",
      "                     IKRSDARTAPHGHVMVELVAELEGIQYGRSGETLGVLVPHVGEIPVAYRKVLLRKNGN\n",
      "                     KGAGGHRYGADLKSFDLGDELGTDPYEDFQENWNTKHSSGVTRELMRELNGGAYTRYV\n",
      "                     DNNFCGPDGYPLECIKDLLARAGKASCTLSEQLDFIDTKRGVYCCREHEHEIAWYTER\n",
      "                     SEKSYELQTPFEIKLAKKFDTFNGECPNFVFPLNSIIKTIQPRVEKKKLDGFMGRIRS\n",
      "                     VYPVASPNECNQMCLSTLMKCDHCGETSWQTGDFVKATCEFCGTENLTKEGATTCGYL\n",
      "                     PQNAVVKIYCPACHNSEVGPEHSLAEYHNESGLKTILRKGGRTIAFGGCVFSYVGCHN\n",
      "                     KCAYWVPRASANIGCNHTGVVGEGSEGLNDNLLEILQKEKVNINIVGDFKLNEEIAII\n",
      "                     LASFSASTSAFVETVKGLDYKAFKQIVESCGNFKVTKGKAKKGAWNIGEQKSILSPLY\n",
      "                     AFASEAARVVRSIFSRTLETAQNSVRVLQKAAITILDGISQYSLRLIDAMMFTSDLAT\n",
      "                     NNLVVMAYITGGVVQLTSQWLTNIFGTVYEXXXXXXXXXXXXXXXXXXXXXXXXXXVK\n",
      "                     FISTCACEIVGGQIVTCAKEIKESVQTFFKLVNKFLALCADSIIIGGAKLKALNLGET\n",
      "                     FVTHSKGLYRKCVKSREETGLLMPLKAPKEIIFLEGETLPTEVLTEEVVLKTGDLQPL\n",
      "                     EXXXXXXXXXXXXXXXXXXXXXXXXXXXXXXXXXXXXXXXXXXXXXXXXXXXXXXXXX\n",
      "                     XXXXXXXXXXXXXXXXXXXXXXXXXXXXXXXXXXXXXXELGTEVNEFACVVADAVIKT\n",
      "                     LQPVSELLTPLGIDLDEWSMATYYLFDESGEFKLASHMYCSFYPPDEDEEEGDCEEEE\n",
      "                     FEPSTQYEYGTEDDYQGKPLEFGATSAALQPEEEQEEDWLDDDSQQTVGQQDGSEDNQ\n",
      "                     TTTIQTIVEVQPQLEMELTPVVQTIEVNSFSGYLKLTDNVYIKNADIVEEAKKVKPTV\n",
      "                     VVNAANVYLKHGGGVAGALNKATNNAMQVESDDYIATNGPLKVGGSCVLSGHNLAKHC\n",
      "                     LHVVGPNVNKGEDIQLLKSAYENFNQHEVLLAPLLSAGIFGADPIHSLRVCVDTVRTN\n",
      "                     VYLAVFDKNLYDKLVSSFLEMKSEKQVEQKIAEIPKEEVKPFITESKPSVEQRKQDDK\n",
      "                     KIKACVEEVTTTLEETKFLTENLLLYIDINGNLHPDSATLVSDIDITFLKKDAPYIVG\n",
      "                     DVVQEGVLTAVVIPTKKASGTTEMLAKALRKVPTDNYITTYPGQGLNGYTVEEAKTVL\n",
      "                     KKCKSAFYILPSIISNEKQEILGTVSWNLREMLAHAEETXXXXXXXXXXXXXXXXXXX\n",
      "                     XXXXXXXXXXXXXXXXXXXXXXXXXXXXXXXXXXXXXXXXXXXXXXXXXXXXXXXXXX\n",
      "                     XXXMRSLKVPATVSVSSPDAVTAYNGYLTSSSKTPEEHFIETISLAGSYKDWSYSGQS\n",
      "                     TQLGIEFLKRGDKSVYYTSNPTTFHLDGEVITFDNLKTLLSLREVRTIKVFTTVDNIN\n",
      "                     LHTQVVDMSMTYGQQFGPTYLDGADVTKIKPHNSHEGKTFYVLPNDDTLRVEAFEYYH\n",
      "                     TTDPSFLGRYMSALNHTKKWKYPQVNGLTSIKWADNNCYLATALLTLQQIELKFNPPA\n",
      "                     LQDAYYRARAGEAANFCALILAYCNKTVGELGDVRETMSYLFQHANLDSCKRVLNVVC\n",
      "                     KTCGQQQTTLKGVEAVMYMGTLSYEQFKKGVQIPCTCGKQATKYLVQQESPFVMMSAP\n",
      "                     PAQYELKHGTFTCASEYTGNYQCGHYKHITSKETLYCIDGALLTKSSEYKGPITDVFY\n",
      "                     KENSYTTTIKPVTYKLDGVVCTEIDPKLDNYYKKDNSYFTEQPIDLVPNQPYPNASFD\n",
      "                     NFKFVCDNIKFADDLNQLTGYKKPASRELKVTFFPDLNGDVVAIDYKHYTPSFKKGAK\n",
      "                     LLHKPIVWHVNNATNKATYKPNTWCIRCLWSTKPVETSNSFDVLKSEDAQGMDNLACE\n",
      "                     DLKPVSEEVVENPTIQKDVLECNVKTTEVVGDIILKPANNSLKITEEVGHTDLMVAYV\n",
      "                     DNSSLTIKKPNELSRVLGLKTLATHGLAAVNSVPWDTIANYAKPFLNKVVSTTTNIVT\n",
      "                     RCLNRVCTNYMPYFFTLLLQLCTFTRSTNSRIKASMPTTIAKNTVKSVGKFCLEASFN\n",
      "                     YLKSPNFSKLINIIIWFLLLSVCLGSLIYSTAALGVLMSNLGMPSYCTXYREGYLNST\n",
      "                     NVTIATYCTGSIPCSVCLSGLDSLDTYPSLETIQITISSFKWDLTAFGLVAEWFLAYI\n",
      "                     LFTRFFYVLGLAAIMQLFFSYFAVHFISNSWLMWLIINLVQMAPISAMVRMYIFFASF\n",
      "                     YYVWKSYVHVVDGCNSSTCMMCYKRNRATRVECTTIVNGVRRSFYVYANGGKGFCKLH\n",
      "                     NWNCVNCDTFCAGSTFISDEVARDLSLQFKRPINPTDQSSYIVDSVTVKNGSIHLYFD\n",
      "                     KAGQKTYERHSLSHFVNLDNLRANNTKGSLPINVIVFDGKSKCEESSAKSASVYYSQL\n",
      "                     MCQPILLLDQALVSDVGDSAEVAVKMFDAYVNTFSSTFNVPMEKLKTLVATAEAELAK\n",
      "                     NVSLDNVLSTFISAARQGFVDSDVETKDVVECLKLSHQSDIEVTGDSCNNYMLTYNKV\n",
      "                     ENMTPRDLGACIDCSARHINAQVAKSHNIALIWNVKDFMSLSEQLRKQIRSAAKKNNL\n",
      "                     PFKLTCATTRQVVNVVTTKIALKGGKIVNNWLKQLIKVTLVFLFVAAIFYLIXXXXXX\n",
      "                     XXXXXXXXXXXXXXXXXXXXXXXXXXXXXXXXXXXXXXXXXXXXXXXXXXXXXXXXXX\n",
      "                     XXXXXXXXXXXXXXXXXXXXXXXXXXXXXFLPRVFSAVGNICYTPSKLIEYTDFATSA\n",
      "                     CVLAAECTIFKDASGKPVPYCYDTNVLEGSVAYESLRPDTRYVLMDGSIIQFPNTYLE\n",
      "                     GSVRVVTTFDSEYCRHGTCERSEXXXXXXXXXXXXXXXXXXXXXXXXXXXXXXXXXXX\n",
      "                     XXXXXXXXXXXXXXXXXXXXXXXXXXXXXXXXXXXXXXXXXXXXXXXXXXXFNTLLFL\n",
      "                     MSFIVLCLTPVYSFLPGVYSVIYLYLTFYLTNDVSFLAHIQWMVMFTPLVPFWITIAY\n",
      "                     IICISTKHFYWFFSNYLKRRVVFNGVSFSTFEEAALCTFLLNKEMYLKLRSDVLLPFT\n",
      "                     QYNRYLALYNKYKYFSGAMDTTSYREAACCHLAKALNDFSNSGSDVLYQPPQISITSA\n",
      "                     VLQSGFRKMAFPSGKVEGCMVQVTXXXTTLNGXXXXXXXXXXXXXXXXXXXXXXPNYE\n",
      "                     DLLIRKSNHNFLVQAGNVQLRVIGHSMQNCVLKLKVDTANPKTPKYKFVRIQPGQTFS\n",
      "                     VLACYNGSPSGVYQCAMRHNFTIKGSFLNGSCGSVGFNIDYDCVSFCYMHHMELPTGV\n",
      "                     HAGTDLEGNFYGPFVDRQTAQAAGTDTTITVNVLAWLYAAVINGDRWFLNRFTTTLND\n",
      "                     FNLVAMKYNYEPLTQDHVDILGPLSAQTGIAVLDMCASLKELLQNGMNGRTILGSALL\n",
      "                     EDEFTPFDVVRQCSGVTFQSAVKRTIKGTHHWLLLTILTSLLVLVQSTQWSLFFFLYE\n",
      "                     NAFLPFAMGIIAMSAFAMMFVKHKHAFLCLFLLPSLATVAYFNMVYMPASWVMRIMTW\n",
      "                     LDMVDTSLKLKDCVMYASAVVLLILMTARTVYDDGARRVWTLMNVLTLVYKVYYGNAL\n",
      "                     DQAISMWALIISVTSNYSGVVTTVMFLARGIVFMCVEYCPIFFITGNTLQCIMLVYCF\n",
      "                     LGYFCTCYFGLFCLLNRYFRLTLGVYDYLVSTQEFRYMNSQGLLPPKNSIDAFKLNIK\n",
      "                     LLGVGGKPCIKVATVQSKMSDVKCTSVVLLSVLQQLRVESSSKLWAQCVQLHNDILLA\n",
      "                     KDTTEAFEKMVSLLSVLLSMQGAVDINKLCEEMLDNRATLQAIASEFSSLPSYAAFAT\n",
      "                     AQEAYEQAVANGDSEVVLKKLKKSLNVAKSEFDRDAAMQRKLEKMADQAMTQMYKQAR\n",
      "                     SEDKRAKVTSAMQTMLFTMLRKLDNDALNNIINNARDGCVPLNIIPLTTAAKLMVVIP\n",
      "                     DYNTYKNTCDGTTFTYASALWEIQQVVDADSKIVQLSEISMDNSPNLAWPLIVTALRA\n",
      "                     NSAVKLQNNELSPVALRQMSCAAGTTQTACTDDNALAYYNTTKGGRFVLALLSDLQDL\n",
      "                     KWARFPKSDGTGTIYTELEPPCRFVTDTPKGPKVKYLYFIKGLNNLNRGMVLGSLAAT\n",
      "                     VRLQAGNATEVPANSTVLSFCAFAVDAAKAYKDYLASGGQPITNCVKMLCTHTGTGQA\n",
      "                     ITVTPEANMDQESFGGASCCLYCRCHIDHPNPKGFCDLKGKYVQIPTTCANDPVGFTL\n",
      "                     KNTVCTVCGMWKGYGCSCDQLREPMLQSADAQSFLNGFAV\"\n",
      "     mat_peptide     <1..463\n",
      "                     /gene=\"ORF1ab\"\n",
      "                     /product=\"leader protein\"\n",
      "     mat_peptide     464..2377\n",
      "                     /gene=\"ORF1ab\"\n",
      "                     /product=\"nsp2\"\n",
      "     mat_peptide     2378..8212\n",
      "                     /gene=\"ORF1ab\"\n",
      "                     /product=\"nsp3\"\n",
      "     mat_peptide     8213..9712\n",
      "                     /gene=\"ORF1ab\"\n",
      "                     /product=\"nsp4\"\n",
      "     mat_peptide     9713..10630\n",
      "                     /gene=\"ORF1ab\"\n",
      "                     /product=\"3C-like proteinase\"\n",
      "     mat_peptide     10631..11491\n",
      "                     /gene=\"ORF1ab\"\n",
      "                     /product=\"nsp6\"\n",
      "     mat_peptide     11492..11740\n",
      "                     /gene=\"ORF1ab\"\n",
      "                     /product=\"nsp7\"\n",
      "     mat_peptide     11741..12334\n",
      "                     /gene=\"ORF1ab\"\n",
      "                     /product=\"nsp8\"\n",
      "     mat_peptide     12335..12673\n",
      "                     /gene=\"ORF1ab\"\n",
      "                     /product=\"nsp9\"\n",
      "     mat_peptide     12674..13090\n",
      "                     /gene=\"ORF1ab\"\n",
      "                     /product=\"nsp10\"\n",
      "     mat_peptide     13091..13129\n",
      "                     /gene=\"ORF1ab\"\n",
      "                     /product=\"nsp11\"\n",
      "     gap             2227..2508\n",
      "                     /estimated_length=282\n",
      "     gap             4079..4316\n",
      "                     /estimated_length=238\n",
      "     gap             8294..8496\n",
      "                     /estimated_length=203\n",
      "     gap             8904..9160\n",
      "                     /estimated_length=257\n",
      "     stem_loop       13125..13152\n",
      "                     /gene=\"ORF1ab\"\n",
      "                     /note=\"Coronavirus frameshifting stimulation element\n",
      "                     stem-loop 1\"\n",
      "     stem_loop       13137..13191\n",
      "                     /gene=\"ORF1ab\"\n",
      "                     /note=\"Coronavirus frameshifting stimulation element\n",
      "                     stem-loop 2\"\n",
      "     gap             18925..19219\n",
      "                     /estimated_length=295\n",
      "     gene            21212..25021\n",
      "                     /gene=\"S\"\n",
      "     CDS             21212..25021\n",
      "                     /gene=\"S\"\n",
      "                     /codon_start=1\n",
      "                     /product=\"surface glycoprotein\"\n",
      "                     /protein_id=\"WOP80465.1\"\n",
      "                     /translation=\"MFVFLVLLPLVSSQCVNLITRTQSYTNSFTRGVYYPDKVFRSSV\n",
      "                     LHSTQDLFLPFFSNVTWFHAIHVSGTNGTKRFDNPALPFNDGVYFASTEKSNIIRGWI\n",
      "                     FGTTLDSKTQSLLIVNNATNVVIKVCEFQFCNDPFLDVYQKNNKSWMESEFRVYSSAN\n",
      "                     NCTFEYVSQPFLMDLEGKEGNFKNLREFVFKNIDGYFKIYSKHTPINLERDLPQGFSA\n",
      "                     LEPLVXXXXXXXXXXXXXXXXXXXXXXXXXXXXXXXXXXXXXXXXXXLQPRTFLLKYN\n",
      "                     ENGTITDAVDCALDPLSETKCTLKSFTVEKGIYQTSNFRVQPTESIVRFPNITNLCPF\n",
      "                     HEVFNATTFASVYAWNRKRISNCVADYSVIYNFAPFFAFKCYGVSPTKLNDLCFTNVY\n",
      "                     ADSFVIRGNEVSQIAPGQTGNIADYNYKLPDDFTGCVIAWNSNKLDSKPSGNYNYLYR\n",
      "                     LFRKSKLKPFERDISTEIYQAGNKPCNGVAGPNCYSPLQSYGFRPTYGVGHQPYRVVV\n",
      "                     LSFELLHAPATVCGPKKSTNLVKNKCVNFNFNGLTGTGVLTESNKKFLPFQQFGRDIA\n",
      "                     DTTDAVRDPQTLEILDITPCSFGGVSVITPGTNTSNQVAVLYQGVNCTEVSVAIHADQ\n",
      "                     LTPTWRVYSTGSNVFQTRAGCLIGAEYVNNSYECDIPIGAGICASYQTQTKSHRRARS\n",
      "                     VASQSIIAYTMSLGAENSVAYSNNSIAIPTNFTISVTTEILPVSMTKTSVDCTMYICG\n",
      "                     DSTECSNLLXXXXXXCTQLKRALTGIAVEQDKNTQEVFAQVKQIYKTPPIKYFGGFNF\n",
      "                     SQILPDPSKPSKRSFIEDLLFNKVTLADAGFIKQYGDCLGDIAARDLICAQKFNGLTV\n",
      "                     LPPLLTDEMIAQYTSALLAGTITSGWTFGAGAALQIPFAMQMAYRFNGIGVTQNVLYE\n",
      "                     NQKLIANQFNSAIGKIQDSLSSTASALGKLQDVVNHNAQALNTLVKQLSSKFGAISSV\n",
      "                     LNDILSRLDKVEAEVQIDRLITGRLQSLQTYVTQQLIRAAEIRASANLAATKMSECVL\n",
      "                     GQSKRVDFCGKGYHLMSFPQSAPHGVVFLHVTYVPAQEKNFTTAPAICHDGKAHFPRE\n",
      "                     GVFVSNGTHWFVTQRNFYEPQIITTDNTFVSGNCDVVIGIVNNTVYDPLQPELDSFKE\n",
      "                     ELDKYFKNHTSPDVDLGDISGINASVVNIQKEIDRLNEVAKNLNESLIDLQELGKYEQ\n",
      "                     YIKWPWYIWLGFIAGLIAIVMVTIMLCCMTSCCSCXXXXCSCGSCCKFDEDDSEPVLK\n",
      "                     GVKLHYT\"\n",
      "     gap             21882..22006\n",
      "                     /estimated_length=125\n",
      "     gene            25030..25857\n",
      "                     /gene=\"ORF3a\"\n",
      "     CDS             25030..25857\n",
      "                     /gene=\"ORF3a\"\n",
      "                     /codon_start=1\n",
      "                     /product=\"ORF3a protein\"\n",
      "                     /protein_id=\"WOP80466.1\"\n",
      "                     /translation=\"MDLFMRIFTIGTVTLKQGEIKDATPSDFVRATATIPIQASLPFG\n",
      "                     WLIVGVALLAVFQSASKIITLKKRWQLALSKGVHFVCNLLXXXXXXXXXXXXXXXXXX\n",
      "                     XPFLYLYALVYFLQSINFVRIIMRLWLCWKCRSKNPLLYDANYFLCWHTNCYDYCXXX\n",
      "                     XXXXXXXXXXXXXXXXXXXXXXXXXIGGYTEKWESGVKDCVVLHSYFTSDYYQLYSTQ\n",
      "                     LSTDIGVEHVTFFIYNKIVDEPEEHVQIHTIDGSSGVVNPVMEPIYDEPTTTTSVPL\"\n",
      "     gene            25882..26109\n",
      "                     /gene=\"E\"\n",
      "     CDS             25882..26109\n",
      "                     /gene=\"E\"\n",
      "                     /codon_start=1\n",
      "                     /product=\"envelope protein\"\n",
      "                     /protein_id=\"WOP80467.1\"\n",
      "                     /translation=\"MYSFVSEEIGALIVNSVLLFLAFVVFLLVTLAILTALRLCAYCC\n",
      "                     NIVNVSLVKPSFYVYSRVKNLNSSRVPDLLV\"\n",
      "     gene            26160..26828\n",
      "                     /gene=\"M\"\n",
      "     CDS             26160..26828\n",
      "                     /gene=\"M\"\n",
      "                     /codon_start=1\n",
      "                     /product=\"membrane glycoprotein\"\n",
      "                     /protein_id=\"WOP80468.1\"\n",
      "                     /translation=\"MADSNGTITVEELKKLLEEWNLVIGFLFLTWICLLQFAYANRNR\n",
      "                     FLYIIKLIFLWLLWPVTLTCFVLAAVYRINWITGGIAIAMACLVGLMWLSYFIASFRL\n",
      "                     FARTRSMWSFNPETNILLNVPXXXXILTRPLLESELVIGAVILRGHLRIAGHHLGRCD\n",
      "                     IKDLPKEITVATSRTLSYYKLGASQRVAGDSGFAAYSRYRIGNYKLNTXXXXXXDNIA\n",
      "                     LLVQ\"\n",
      "     gene            26839..27024\n",
      "                     /gene=\"ORF6\"\n",
      "     CDS             26839..27024\n",
      "                     /gene=\"ORF6\"\n",
      "                     /codon_start=1\n",
      "                     /product=\"ORF6 protein\"\n",
      "                     /protein_id=\"WOP80469.1\"\n",
      "                     /translation=\"MFHLVDFQVTIAEILLIIMRTFKVSIWNLDYIINLIIKNLSKSL\n",
      "                     TENKYSQLDEEQPMEIL\"\n",
      "     gene            27031..>27148\n",
      "                     /gene=\"ORF7a\"\n",
      "     CDS             27031..>27148\n",
      "                     /gene=\"ORF7a\"\n",
      "                     /codon_start=1\n",
      "                     /product=\"ORF7a protein\"\n",
      "                     /protein_id=\"WOP80470.1\"\n",
      "                     /translation=\"MKIILFLALITLATCELYHYQECVRGTTVLLKEPCSSGT\"\n",
      "     gap             27149..27741\n",
      "                     /estimated_length=593\n",
      "     gene            <27742..27896\n",
      "                     /gene=\"ORF8\"\n",
      "     CDS             <27742..27896\n",
      "                     /gene=\"ORF8\"\n",
      "                     /codon_start=3\n",
      "                     /product=\"ORF8 protein\"\n",
      "                     /protein_id=\"WOP80471.1\"\n",
      "                     /translation=\"QYIDIGNYTVSCLPFTINCQEPKLGSLVVRCSFYEDFLEYHDVR\n",
      "                     VVLDFI\"\n",
      "     gene            27911..29161\n",
      "                     /gene=\"N\"\n",
      "     CDS             27911..29161\n",
      "                     /gene=\"N\"\n",
      "                     /codon_start=1\n",
      "                     /product=\"nucleocapsid phosphoprotein\"\n",
      "                     /protein_id=\"WOP80472.1\"\n",
      "                     /translation=\"MSDNGPQNQRNALRITFGGPSDSTGSNQNGGARSKQRRPQGLPN\n",
      "                     NIASWFTALTQHGKEDLKFPRGQGVPINTNSSPDDQIGYYRRATRRIRGGDGKMKDLS\n",
      "                     PRWYFYYLGTGPEAGLPYGANKDGIIWVATEGALNTPKDHIGTRNPANNAAIVLQLPQ\n",
      "                     GTTLPKGFYAEGSRGGSQASSRSSSRSRNSSRNSTPGSSKRTSPARMAGNGGDAALAL\n",
      "                     LLLDRLNQLESKMSGKGQQQQGQTVTKKSAAEASKKPRQKRTATKAYNVTQAFGRRGP\n",
      "                     EQTQGNFGDQELIRQGTDYKHWPQIAQFAPSASAFFGMSRIGMEVTPSGTWLTYTGAI\n",
      "                     KLDDKDPNFKDQVILLNKHIDAYKXXXXXXXXXXXKKKADETQALPQRQKKQQTVTLL\n",
      "                     PAADLDDFSKQLQQSMSRADSTQA\"\n",
      "     gene            29186..29302\n",
      "                     /gene=\"ORF10\"\n",
      "     CDS             29186..29302\n",
      "                     /gene=\"ORF10\"\n",
      "                     /codon_start=1\n",
      "                     /product=\"ORF10 protein\"\n",
      "                     /protein_id=\"WOP80473.1\"\n",
      "                     /translation=\"MGYINVFAFPFTIYSLLLCRMNSRNYIAQVDVVNFNLT\"\n",
      "     stem_loop       29237..29272\n",
      "                     /gene=\"ORF10\"\n",
      "                     /note=\"Coronavirus 3' UTR pseudoknot stem-loop 1\"\n",
      "     stem_loop       29257..29285\n",
      "                     /gene=\"ORF10\"\n",
      "                     /note=\"Coronavirus 3' UTR pseudoknot stem-loop 2\"\n",
      "     stem_loop       29356..29370\n",
      "                     /note=\"Coronavirus 3' stem-loop II-like motif (s2m)\"\n",
      "ORIGIN      \n",
      "        1 gctcgtacgt ggctttggag actccgtgga ggaggtctta tcagaggcac gtcaacatct\n",
      "       61 tagagatggc acttgtggct tagtagaagt tgaaaaaggc gttttgcctc aacttgaaca\n",
      "      121 gccctatgtg ttcatcaaac gttcggatgc tcgaactgca cctcatggtc atgttatggt\n",
      "      181 tgagctggta gcagaactcg aaggcattca gtacggtcgt agtggtgaga cacttggtgt\n",
      "      241 ccttgtccct catgtgggcg aaataccagt ggcttaccgc aaggttcttc ttcgtaagaa\n",
      "      301 cggtaataaa ggagctggtg gccataggta cggcgccgat ctaaagtcat ttgacttagg\n",
      "      361 cgacgagctt ggcactgatc cttatgaaga ttttcaagaa aactggaaca ctaaacatag\n",
      "      421 cagtggtgtt acccgtgaac tcatgcgtga gcttaacgga ggggcataca ctcgctatgt\n",
      "      481 cgataacaac ttctgtggcc ctgatggcta ccctcttgag tgcattaaag accttctagc\n",
      "      541 acgtgctggt aaagcttcat gcactttgtc cgaacaactg gactttattg acactaagag\n",
      "      601 gggtgtatac tgctgccgtg aacatgagca tgaaattgct tggtacacgg aacgttctga\n",
      "      661 aaagagctat gaattgcaga caccttttga aattaaattg gcaaagaaat ttgacacctt\n",
      "      721 caatggggaa tgtccaaatt ttgtatttcc cttaaattcc ataatcaaga ctattcaacc\n",
      "      781 aagggttgaa aagaaaaagc ttgatggctt tatgggtaga attcgatctg tctatccagt\n",
      "      841 tgcgtcacca aatgaatgca accaaatgtg cctttcaact ctcatgaagt gtgatcattg\n",
      "      901 tggtgaaact tcatggcaga cgggcgattt tgttaaagcc acttgcgaat tttgtggcac\n",
      "      961 tgagaatttg actaaagaag gtgccactac ttgtggttac ttaccccaaa atgctgttgt\n",
      "     1021 taaaatttat tgtccagcat gtcacaattc agaagtagga cctgagcata gtcttgccga\n",
      "     1081 ataccataat gaatctggct tgaaaaccat tcttcgtaag ggtggtcgca ctattgcctt\n",
      "     1141 tggaggctgt gtgttctctt atgttggttg ccataacaag tgtgcctatt gggttccacg\n",
      "     1201 tgctagcgct aacataggtt gtaaccatac aggtgttgtt ggagaaggtt ccgaaggtct\n",
      "     1261 taatgacaac cttcttgaaa tactccaaaa agagaaagtc aacatcaata ttgttggtga\n",
      "     1321 ctttaaactt aatgaagaga tcgccattat tttggcatct ttttctgctt ccacaagtgc\n",
      "     1381 ttttgtggaa actgtgaaag gtttggatta taaagcattc aaacaaattg ttgaatcctg\n",
      "     1441 tggtaatttt aaagttacaa aaggaaaagc taaaaaaggt gcctggaata ttggtgaaca\n",
      "     1501 gaaatcaata ctgagtcctc tttatgcatt tgcatcagag gctgctcgtg ttgtacgatc\n",
      "     1561 aattttctcc cgcactcttg aaactgctca aaattctgtg cgtgttttac agaaggccgc\n",
      "     1621 tataacaata ctagatggaa tttcacagta ttcactgaga cttattgatg ctatgatgtt\n",
      "     1681 cacatctgat ttggctacta acaatctagt tgtaatggcc tacattacag gtggtgttgt\n",
      "     1741 tcagttgact tcgcagtggc taactaacat ctttggcact gtttatgaan nnnnnnnnnn\n",
      "     1801 nnnnnnnnnn nnnnnnnnnn nnnnnnnnnn nnnnnnnnnn nnnnnnnnnn nnnnnnnnnn\n",
      "     1861 nnnnnttgtt aaatttatct caacctgtgc ttgtgaaatt gtcggtggac aaattgtcac\n",
      "     1921 ctgtgcaaag gaaattaagg agagtgttca gacattcttt aagcttgtaa ataaattttt\n",
      "     1981 ggctttgtgt gctgactcta tcattattgg tggagctaaa cttaaagcct tgaatttagg\n",
      "     2041 tgaaacattt gtcacgcact caaagggatt gtacagaaag tgtgttaaat ccagagaaga\n",
      "     2101 aactggccta ctcatgcctc taaaagcccc aaaagaaatt atcttcttag agggagaaac\n",
      "     2161 acttcccaca gaagtgttaa cagaggaagt tgtcttgaaa actggtgatt tacaaccatt\n",
      "     2221 agaacannnn nnnnnnnnnn nnnnnnnnnn nnnnnnnnnn nnnnnnnnnn nnnnnnnnnn\n",
      "     2281 nnnnnnnnnn nnnnnnnnnn nnnnnnnnnn nnnnnnnnnn nnnnnnnnnn nnnnnnnnnn\n",
      "     2341 nnnnnnnnnn nnnnnnnnnn nnnnnnnnnn nnnnnnnnnn nnnnnnnnnn nnnnnnnnnn\n",
      "     2401 nnnnnnnnnn nnnnnnnnnn nnnnnnnnnn nnnnnnnnnn nnnnnnnnnn nnnnnnnnnn\n",
      "     2461 nnnnnnnnnn nnnnnnnnnn nnnnnnnnnn nnnnnnnnnn nnnnnnnntg aactcggtac\n",
      "     2521 agaagtaaat gagttcgcct gtgttgtggc agatgctgtc ataaaaactt tgcaaccagt\n",
      "     2581 atctgaatta cttacaccac tgggcattga tttagatgag tggagtatgg ctacatacta\n",
      "     2641 cttatttgat gagtctggtg agtttaaatt ggcttcacat atgtattgtt ctttttaccc\n",
      "     2701 tccagatgag gatgaagaag aaggtgattg tgaagaagaa gagtttgagc catcaactca\n",
      "     2761 atatgagtat ggtactgaag atgattacca aggtaaacct ttggaatttg gtgccacttc\n",
      "     2821 tgctgctctt caacctgaag aagagcaaga agaagattgg ttagatgatg atagtcaaca\n",
      "     2881 aactgttggt caacaagacg gcagtgagga caatcagaca actactattc aaacaattgt\n",
      "     2941 tgaggttcaa cctcaattag agatggaact tacaccagtt gttcagacta ttgaagtgaa\n",
      "     3001 tagttttagt ggttatttaa aacttactga caatgtatac attaaaaatg cagacattgt\n",
      "     3061 ggaagaagct aaaaaggtaa aaccaacagt ggttgttaat gcagccaatg tttaccttaa\n",
      "     3121 acatggagga ggtgttgcag gagccttaaa taaggctact aacaatgcca tgcaagttga\n",
      "     3181 atctgatgat tacatagcta ctaatggacc acttaaagtg ggtggtagtt gtgttttaag\n",
      "     3241 cggacacaat cttgctaaac actgtcttca tgttgtcggc ccaaatgtta acaaaggtga\n",
      "     3301 agacattcaa cttcttaaga gtgcttatga aaattttaat cagcacgaag ttctacttgc\n",
      "     3361 accattatta tcagctggta tttttggtgc tgaccctata cattctttaa gagtttgtgt\n",
      "     3421 agatactgtt cgcacaaatg tctacttagc tgtctttgat aaaaatctct atgacaaact\n",
      "     3481 tgtttcaagc tttttggaaa tgaagagtga aaagcaagtt gaacaaaaga tcgctgagat\n",
      "     3541 tcctaaagag gaagttaagc catttataac tgaaagtaaa ccttcagttg aacagagaaa\n",
      "     3601 acaagatgat aagaaaatca aagcttgtgt cgaagaagtt acaacaactc tggaagaaac\n",
      "     3661 taagttcctc acagaaaact tgttacttta tattgacatt aatggcaatc ttcatccaga\n",
      "     3721 ttctgccact cttgttagtg acattgacat cactttctta aagaaagatg ctccatatat\n",
      "     3781 agtgggtgat gttgttcaag agggtgtttt aactgctgtg gttataccta ctaaaaaggc\n",
      "     3841 tagtggcact actgaaatgc tagcgaaagc tttgagaaaa gtgccaacag acaattatat\n",
      "     3901 aaccacttac ccgggtcagg gtttaaatgg ttacactgta gaggaggcaa agacagtgct\n",
      "     3961 taaaaagtgt aaaagtgctt tttacattct accatctatt atctctaatg agaagcaaga\n",
      "     4021 aattcttgga actgtttctt ggaatttgcg agaaatgctt gcacatgcag aagaaacann\n",
      "     4081 nnnnnnnnnn nnnnnnnnnn nnnnnnnnnn nnnnnnnnnn nnnnnnnnnn nnnnnnnnnn\n",
      "     4141 nnnnnnnnnn nnnnnnnnnn nnnnnnnnnn nnnnnnnnnn nnnnnnnnnn nnnnnnnnnn\n",
      "     4201 nnnnnnnnnn nnnnnnnnnn nnnnnnnnnn nnnnnnnnnn nnnnnnnnnn nnnnnnnnnn\n",
      "     4261 nnnnnnnnnn nnnnnnnnnn nnnnnnnnnn nnnnnnnnnn nnnnnnnnnn nnnnnnatat\n",
      "     4321 gagatctctc aaagtgccag ctacagtttc tgtttcttca cctgatgctg ttacagcgta\n",
      "     4381 taatggttat cttacttctt cttctaaaac acctgaagaa cattttattg aaaccatctc\n",
      "     4441 acttgctggt tcctataaag attggtccta ttctggacaa tctacacaac taggtataga\n",
      "     4501 atttcttaag agaggtgata aaagtgtata ttacactagt aatcctacca cattccacct\n",
      "     4561 agatggtgaa gttatcacct ttgacaatct taagacactt ctttctttga gagaagtgag\n",
      "     4621 gactattaag gtgtttacaa cagtagacaa cattaacctc cacacgcaag ttgtggacat\n",
      "     4681 gtcaatgaca tatggacaac agtttggtcc aacttatttg gatggagctg atgttactaa\n",
      "     4741 aataaaacct cataattcac atgaaggtaa aacattttat gttttaccta atgatgacac\n",
      "     4801 tctacgtgtt gaggcttttg agtactacca cacaactgat cctagttttc tgggtaggta\n",
      "     4861 catgtcagca ttaaatcaca ctaaaaagtg gaaataccca caagttaatg gtttaacttc\n",
      "     4921 tattaaatgg gcagataaca actgttatct tgccactgca ttgttaacac tccaacaaat\n",
      "     4981 agagttgaag tttaatccac ctgctctaca agatgcttat tacagagcaa gggctggtga\n",
      "     5041 agctgctaac ttttgtgcac ttatcttagc ctactgtaat aagacagtag gtgagttagg\n",
      "     5101 tgatgttaga gaaacaatga gttacttgtt tcaacatgcc aatttagatt cttgcaaaag\n",
      "     5161 agtcttgaac gtggtgtgta aaacttgtgg acaacagcag acaaccctta agggtgtaga\n",
      "     5221 agctgttatg tacatgggca cactttctta tgaacaattt aagaaaggtg ttcagatacc\n",
      "     5281 ttgtacgtgt ggtaaacaag ctacaaaata tctagtacaa caggagtcac cttttgttat\n",
      "     5341 gatgtcagca ccacctgctc agtatgaact taagcatggt acatttactt gtgctagtga\n",
      "     5401 gtacactggt aattaccagt gtggtcacta taaacatata acttctaaag aaactttgta\n",
      "     5461 ttgcatagac ggtgctttac ttacaaagtc ctcagaatac aaaggtccta ttacggatgt\n",
      "     5521 tttctacaaa gaaaacagtt acacaacaac cataaaacca gttacttata aattggatgg\n",
      "     5581 tgttgtttgt acagaaattg accctaagtt ggacaattat tataagaaag acaattctta\n",
      "     5641 tttcacagag caaccaattg atcttgtacc aaaccaacca tatccaaacg caagcttcga\n",
      "     5701 taattttaag tttgtatgtg ataatatcaa atttgctgat gatttaaacc agttaactgg\n",
      "     5761 ttataagaaa cctgcttcaa gagagcttaa agttacattt ttccctgact taaatggtga\n",
      "     5821 tgtggtggct attgattata aacactacac accctctttt aagaaaggag ctaaattgtt\n",
      "     5881 acataaacct attgtttggc atgttaacaa tgcaactaat aaagccacgt ataaaccaaa\n",
      "     5941 tacctggtgt atacgttgtc tttggagcac aaaaccagtt gaaacatcaa attcgtttga\n",
      "     6001 tgtactgaag tcagaggacg cgcagggaat ggataatctt gcctgcgaag atctaaaacc\n",
      "     6061 agtctctgaa gaagtagtgg aaaatcctac catacagaaa gacgttcttg agtgtaatgt\n",
      "     6121 gaaaactacc gaagttgtag gagacattat acttaaacca gcaaataata gtttaaaaat\n",
      "     6181 tacagaagag gttggccaca cagatctaat ggttgcttat gtagacaatt ctagtcttac\n",
      "     6241 tattaagaaa cctaatgaat tatctagagt attaggtttg aaaacccttg ctactcatgg\n",
      "     6301 tttagctgct gttaatagtg tcccttggga tactatagct aattatgcta agccttttct\n",
      "     6361 taacaaagtt gttagtacaa ctactaacat agttacacgg tgtttaaacc gtgtttgtac\n",
      "     6421 taattatatg ccttatttct ttactttatt gctacaattg tgtactttta ctagaagtac\n",
      "     6481 aaattctaga attaaagcat ctatgccgac tactatagca aagaatactg ttaagagtgt\n",
      "     6541 cggtaaattt tgtctagagg cttcatttaa ttatttgaag tcacctaatt tttctaaact\n",
      "     6601 gataaatatt ataatttggt ttttactatt aagtgtttgc ctaggttctt taatctactc\n",
      "     6661 aaccgctgct ttaggtgttt taatgtctaa tttaggcatg ccttcttact gtacnngtta\n",
      "     6721 cagagaaggc tatttgaact ctactaatgt cactattgca acctactgta ctggttctat\n",
      "     6781 accttgtagt gtttgtctta gtggtttaga ttctttagac acctatcctt ctttagaaac\n",
      "     6841 tatacaaatt accatttcat cttttaaatg ggatttaact gcttttggct tagttgcaga\n",
      "     6901 gtggtttttg gcatatattc ttttcactag gtttttctat gtacttggat tggctgcaat\n",
      "     6961 catgcaattg tttttcagct attttgcagt acattttatt agtaattctt ggcttatgtg\n",
      "     7021 gttaataatt aatcttgtac aaatggcccc gatttcagct atggttagaa tgtacatctt\n",
      "     7081 ctttgcatca ttttattatg tatggaaaag ttatgtgcat gttgtagacg gttgtaattc\n",
      "     7141 atcaacttgt atgatgtgtt acaaacgtaa tagagcaaca agagtcgaat gtacaactat\n",
      "     7201 tgttaatggt gttagaaggt ccttttatgt ctatgctaat ggaggtaaag gcttttgcaa\n",
      "     7261 actacacaat tggaattgtg ttaattgtga tacattctgt gctggtagta catttattag\n",
      "     7321 tgatgaagtt gcgagagact tgtcactaca gtttaaaaga ccaataaatc ctactgacca\n",
      "     7381 gtcttcttac atcgttgata gtgttacagt gaagaatggt tccatccatc tttactttga\n",
      "     7441 taaagctggt caaaagactt atgaaagaca ttctctctct cattttgtta acttagacaa\n",
      "     7501 cctgagagct aataacacta aaggttcatt gcctattaat gttatagttt ttgatggtaa\n",
      "     7561 atcaaaatgt gaagaatcat ctgcaaaatc agcgtctgtt tactacagtc agcttatgtg\n",
      "     7621 tcaacctata ctgttactag atcaggcatt agtgtctgat gttggtgata gtgcggaagt\n",
      "     7681 tgcagttaaa atgtttgatg cttacgttaa tacgttttca tcaactttta acgtaccaat\n",
      "     7741 ggaaaaactc aaaacactag ttgcaactgc agaagctgaa cttgcaaaga atgtgtcctt\n",
      "     7801 agacaatgtc ttatctactt ttatttcagc agctcggcaa gggtttgttg attcagatgt\n",
      "     7861 agaaactaaa gatgttgttg aatgtcttaa attgtcacat caatctgaca tagaagttac\n",
      "     7921 tggcgatagt tgtaataact atatgctcac ctataacaaa gttgaaaaca tgacaccccg\n",
      "     7981 tgaccttggt gcttgtattg actgtagtgc gcgtcatatt aatgcgcagg tagcaaaaag\n",
      "     8041 tcacaacatt gctttgatat ggaacgttaa agatttcatg tcattgtctg aacaactacg\n",
      "     8101 aaaacaaata cgtagtgctg ctaaaaagaa taacttacct tttaagttga catgtgcaac\n",
      "     8161 tactagacaa gttgttaatg ttgtaacaac aaagatagca cttaagggtg gtaaaattgt\n",
      "     8221 taataattgg ttgaagcagt taattaaagt tacacttgtg ttcctttttg ttgctgctat\n",
      "     8281 tttctattta atannnnnnn nnnnnnnnnn nnnnnnnnnn nnnnnnnnnn nnnnnnnnnn\n",
      "     8341 nnnnnnnnnn nnnnnnnnnn nnnnnnnnnn nnnnnnnnnn nnnnnnnnnn nnnnnnnnnn\n",
      "     8401 nnnnnnnnnn nnnnnnnnnn nnnnnnnnnn nnnnnnnnnn nnnnnnnnnn nnnnnnnnnn\n",
      "     8461 nnnnnnnnnn nnnnnnnnnn nnnnnnnnnn nnnnnnaann nnnnnnnnnn nnnnnnnnnn\n",
      "     8521 nnnnnnnnnn nnnnnnnnnn nnnnnnnnnn nnnnnnnnnn nnnnnnnnnn ntttcttacc\n",
      "     8581 tagagttttt agtgcagttg gtaacatctg ttacacacca tcaaaactta tagagtacac\n",
      "     8641 tgactttgca acatcagctt gtgttttggc tgctgaatgt acaattttta aagatgcttc\n",
      "     8701 tggtaagcca gtaccatatt gttatgatac caatgtacta gaaggttctg ttgcttatga\n",
      "     8761 aagtttacgc cctgacacac gttatgtgct catggatggc tctattattc aatttcctaa\n",
      "     8821 cacctacctt gaaggttctg ttagagtggt aacaactttt gattctgagt actgtaggca\n",
      "     8881 cggcacttgt gaaagatcag aagnnnnnnn nnnnnnnnnn nnnnnnnnnn nnnnnnnnnn\n",
      "     8941 nnnnnnnnnn nnnnnnnnnn nnnnnnnnnn nnnnnnnnnn nnnnnnnnnn nnnnnnnnnn\n",
      "     9001 nnnnnnnnnn nnnnnnnnnn nnnnnnnnnn nnnnnnnnnn nnnnnnnnnn nnnnnnnnnn\n",
      "     9061 nnnnnnnnnn nnnnnnnnnn nnnnnnnnnn nnnnnnnnnn nnnnnnnnnn nnnnnnnnnn\n",
      "     9121 nnnnnnnnnn nnnnnnnnnn nnnnnnnnnn nnnnnnnnnn tttaatactt tactattcct\n",
      "     9181 tatgtcattc attgtactct gtttaacacc agtttactca ttcttacctg gtgtttattc\n",
      "     9241 tgttatttac ttgtacttga cattttatct tactaatgat gtttcttttt tagcacatat\n",
      "     9301 tcagtggatg gttatgttca cacctttagt acctttctgg ataacaattg cttatatcat\n",
      "     9361 ttgtatttcc acaaagcatt tctattggtt ctttagtaat tacctaaaga gacgtgtagt\n",
      "     9421 ctttaatggt gtttccttta gtacttttga agaagctgcg ctgtgcacct ttttgttaaa\n",
      "     9481 taaagaaatg tatctaaagt tgcgtagtga tgtgctatta ccttttacgc aatataatag\n",
      "     9541 atacttagct ctttataata agtacaagta ttttagtgga gcaatggata caactagcta\n",
      "     9601 cagagaagct gcttgttgtc atctcgcaaa ggctctcaat gacttcagta actcaggttc\n",
      "     9661 tgatgttctt taccaaccac cacaaatctc tatcacctca gctgttttgc agagtggttt\n",
      "     9721 tagaaaaatg gcattcccat ctggtaaagt tgagggttgt atggtacaag taactnnnnn\n",
      "     9781 nnnnactaca cttaacggtc nnnnnnnnnn nnnnnnnnnn nnnnnnnnnn nnnnnnnnnn\n",
      "     9841 nnnnnnnnnn nnnnnnnnnn nnnaccctaa ttatgaagat ttactcattc gtaagtctaa\n",
      "     9901 tcataatttc ttggtacagg ctggtaatgt tcaactcagg gttattggac attctatgca\n",
      "     9961 aaattgtgta cttaagctta aggttgatac agccaatcct aagacaccta agtataagtt\n",
      "    10021 tgttcgcatt caaccaggac agactttttc agtgttagct tgttacaatg gttcaccatc\n",
      "    10081 tggtgtttac caatgtgcta tgagacacaa tttcactatt aagggttcat tccttaatgg\n",
      "    10141 ttcatgtggt agtgttggtt ttaacataga ttatgactgt gtctcttttt gttacatgca\n",
      "    10201 ccatatggaa ttaccaactg gagttcatgc tggcacagac ttagaaggta acttttatgg\n",
      "    10261 accttttgtt gacaggcaaa cagcacaagc agctggtacg gacacaacta ttacagttaa\n",
      "    10321 tgttttagct tggttgtacg ctgctgttat aaatggagac aggtggtttc tcaatcgatt\n",
      "    10381 taccacaact cttaatgact ttaaccttgt ggctatgaag tacaattatg aacctctaac\n",
      "    10441 acaagaccat gttgacatac taggacctct ttctgctcaa actggaattg ccgttttaga\n",
      "    10501 tatgtgtgct tcattaaaag aattactgca aaatggtatg aatggacgta ccatattggg\n",
      "    10561 tagtgcttta ttagaagatg aatttacacc ttttgatgtt gttagacaat gctcaggtgt\n",
      "    10621 tactttccaa agtgcagtga aaagaacaat caagggtaca caccactggt tgttactcac\n",
      "    10681 aattttgact tcacttttag ttttagtcca gagtactcaa tggtctttgt tctttttttt\n",
      "    10741 gtatgaaaat gcctttttac cttttgctat gggtattatt gctatgtctg cttttgcaat\n",
      "    10801 gatgtttgtc aaacataagc atgcatttct ctgtttgttt ttgttacctt ctcttgccac\n",
      "    10861 tgtagcttat tttaatatgg tctatatgcc tgctagttgg gtgatgcgta ttatgacatg\n",
      "    10921 gttggatatg gttgatacta gtttgaagct aaaagactgt gttatgtatg catcagctgt\n",
      "    10981 agtgttacta atccttatga cagcaagaac tgtgtatgat gatggtgcta ggagagtgtg\n",
      "    11041 gacacttatg aatgtcttga cactcgttta taaagtttat tatggtaatg ctttagatca\n",
      "    11101 agccatttcc atgtgggctc ttataatctc tgttacttct aactactcag gtgtagttac\n",
      "    11161 aactgtcatg tttttggcca gaggtattgt ttttatgtgt gttgagtatt gccctatttt\n",
      "    11221 cttcataact ggtaatacac ttcagtgtat aatgctagtt tattgtttct taggctattt\n",
      "    11281 ttgtacttgt tactttggcc tcttttgttt actcaaccgc tactttagac tgactcttgg\n",
      "    11341 tgtttatgat tacttagttt ctacacagga gtttagatat atgaattcac agggactact\n",
      "    11401 cccacccaag aatagcatag atgccttcaa actcaacatt aaattgttgg gtgttggtgg\n",
      "    11461 caaaccttgt atcaaagtag ccactgtaca gtctaaaatg tcagatgtaa agtgcacatc\n",
      "    11521 agtagtctta ctctcagttt tgcaacaact cagagtagaa tcatcatcta aattgtgggc\n",
      "    11581 tcaatgtgtc cagttacaca atgacattct cttagctaaa gatactactg aagcctttga\n",
      "    11641 aaaaatggtt tcactacttt ctgttttgct ttccatgcag ggtgctgtag acataaacaa\n",
      "    11701 gctttgtgaa gaaatgctgg acaacagggc aaccttacaa gctatagcct cagagtttag\n",
      "    11761 ttcccttcca tcatatgcag cttttgctac tgctcaagaa gcttatgagc aggctgttgc\n",
      "    11821 taatggtgat tctgaagttg ttcttaaaaa gttgaagaag tctttgaatg tggctaaatc\n",
      "    11881 tgaatttgac cgtgatgcag ccatgcaacg taagttggaa aagatggctg atcaagctat\n",
      "    11941 gacccaaatg tataaacagg ctagatctga ggacaagagg gcaaaagtta ctagtgctat\n",
      "    12001 gcagacaatg cttttcacta tgcttagaaa gttggataat gatgcactca acaacattat\n",
      "    12061 caacaatgca agagatggtt gtgttccctt gaacataata cctcttacaa cagcagccaa\n",
      "    12121 actaatggtt gtcataccag actataacac atataaaaat acgtgtgatg gtacaacatt\n",
      "    12181 tacttatgca tcagcattgt gggaaatcca acaggttgta gatgcagata gtaaaattgt\n",
      "    12241 tcaacttagt gaaattagta tggacaattc acctaattta gcatggcctc ttattgtaac\n",
      "    12301 agctttaagg gccaattctg ctgtcaaatt acagaataat gagcttagtc ctgttgcact\n",
      "    12361 acgacagatg tcttgtgctg ccggtactac acaaactgct tgcactgatg acaatgcgtt\n",
      "    12421 agcttactac aacacaacaa agggaggtag gtttgtactt gcactgttat ccgatttaca\n",
      "    12481 ggatttgaaa tgggctagat tccctaagag tgatggaact ggtactattt atacagaact\n",
      "    12541 ggaaccacct tgtaggtttg ttacagacac acctaaaggt cctaaagtga agtatttata\n",
      "    12601 ctttattaaa ggattaaaca acctaaatag aggtatggta cttggtagtt tagctgccac\n",
      "    12661 agtacgtcta caagctggta atgcaacaga agtgcctgcc aattcaactg tattatcttt\n",
      "    12721 ctgtgctttt gctgtagatg ctgctaaagc ttacaaagat tatctagcta gtgggggaca\n",
      "    12781 accaatcact aattgtgtta agatgttgtg tacacacact ggtactggtc aggcaataac\n",
      "    12841 agttacaccg gaagccaata tggatcaaga atcctttggt ggtgcatcgt gttgtctgta\n",
      "    12901 ctgccgttgc cacatagatc atccaaatcc taaaggattt tgtgacttaa aaggtaagta\n",
      "    12961 tgtacaaata cctacaactt gtgctaatga ccctgtgggt tttacactta aaaacacagt\n",
      "    13021 ctgtaccgtc tgcggtatgt ggaaaggtta tggctgtagt tgtgatcaac tccgcgaacc\n",
      "    13081 catgcttcag tcagctgatg cacaatcgtt tttaaacggg tttgcggtgt aagtgcagcc\n",
      "    13141 cgtcttacac cgtgcggcac aggcactagt actgatgtcg tatacagggc ttttgacatc\n",
      "    13201 tacaatgata aagtagctgg ttttgctaaa ttcctaaaaa ctaattgttg tcgcttccaa\n",
      "    13261 gaaaaggacg aagatgacaa tttaattgat tcttactttg tagttaagag acacactttc\n",
      "    13321 tctaactacc aacatgaaga aacaatttat aatttactta aggattgtcc agctgttgct\n",
      "    13381 aaacatgact tctttaagtt tagaatagac ggtgacatgg taccacatat atcacgtcaa\n",
      "    13441 cgtcttacta aatacacaat ggcagacctc gtctatgctt taaggcattt tgatgaaggt\n",
      "    13501 aattgtgaca cattaaaaga aatacttgtc acatacaatt gttgtgatga tgattatttc\n",
      "    13561 aataaaaagg actggtatga ttttgtagaa aacccagata tattacgcgt atacgccaac\n",
      "    13621 ttaggtgaac gtgtacgcca agctttgtta aaaacagtac aattctgtga tgccatgcga\n",
      "    13681 aatgctggta ttgttggtgt actgacatta gataatcaag atctcaatgg taactggtat\n",
      "    13741 gatttcggtg atttcataca aaccacgcca ggtagtggag ttcctgttgt agattcttat\n",
      "    13801 tattcattgt taatgcctat attaaccttg accagggctt taactgcaga gtcacatgtt\n",
      "    13861 gacactgact taacaaagcc ttacattaag tgggatttgt taaaatatga cttcacggaa\n",
      "    13921 gagaggttaa aactctttga ccgttatttt aaatattggg atcagacata ccacccaaat\n",
      "    13981 tgtgttaact gtttggatga cagatgcatt ctgcattgtg caaactttaa tgttttattc\n",
      "    14041 tctacagtgt tcccacttac aagttttgga ccactagtga gaaaaatatt tgttgatggt\n",
      "    14101 gttccatttg tagtttcaac tggataccac ttcagagagc taggtgttgt acataatcag\n",
      "    14161 gatgtaaact tacatagctc tagacttagt tttaaggaat tacttgtgta tgctgctgac\n",
      "    14221 cctgctatgc acgctgcttc tggtaatcta ttactagata aacgcactac gtgcttttca\n",
      "    14281 gtagctgcac ttactaacaa tgttgctttt caaactgtca aacccggtaa ttttaacaaa\n",
      "    14341 gacttctatg actttgctgt gtctaagggt ttctttaagg aaggaagttc tgttgaatta\n",
      "    14401 aaacacttct tctttgctca ggatggtaat gctgctatca gcgattatga ctactatcgt\n",
      "    14461 tataatctac caacaatgtg tgatatcaga caactactat ttgtagttga agttgttgat\n",
      "    14521 aagtactttg attgttacga tggtggctgt attaatgcta accaagtcat cgtcaacaac\n",
      "    14581 ctagacaaat cagctggttt tccatttaat aaatggggta aggctagact ttattatgat\n",
      "    14641 tcaatgagtt atgaggatca agatgcactt ttcgcatata caaaacgtaa tgtcatccct\n",
      "    14701 actataactc aaatgaatct taagtatgcc attagtgcaa agaatagagc tcgcaccgta\n",
      "    14761 gctggtgtct ctatctgtag tactatgacn nnnnnnnnnn nnnnnnnnnn nnnnnnnnnn\n",
      "    14821 nnnnnnnnnn nnnnnnnnnn nnctactgta gtaattggaa caagcaaatt ctatggtggt\n",
      "    14881 tggcacaaca tgttaaaaac tgtttatagt gatgtagaaa accctcacct tatgggttgg\n",
      "    14941 gattatccta aatgtgatag agccatgcct aacatgctta gaattatggc ctcacttgtt\n",
      "    15001 cttgctcgca aacatacaac gtgttgtagc ttgtcacacc gtttctatag attagctaat\n",
      "    15061 gagtgtgctc aagtattgag tgaaatggtc atgtgtggca gttcactata tgttaaacca\n",
      "    15121 ggtggaacct catcaggaga tgccacaact gcttatgcta atagtgtttt taacatttgt\n",
      "    15181 caagctgtca cggccaatgt taatgcactt ttatctactg atggtaacaa aattgccgat\n",
      "    15241 aagtatgtcc gcaatttaca acacagactt tatgagtgtc tctatagaaa tagagatgtt\n",
      "    15301 gacacagact ttgtgaatga gttttacgca tatttgcgta aacatttctc aatgatgata\n",
      "    15361 ctttctgacg atgctgttgt gtgttttaat agcacttatg catctcaagg tctagtggct\n",
      "    15421 agcataaaga actttaagtc agttctttat tatcaaaaca atgtttttat gtctgaagca\n",
      "    15481 aaatgttgga ctgagactga ccttactaaa ggacctcatg aattttgctc tcaacataca\n",
      "    15541 atgctagtta aacagggtga tgattatgtg taccttcctt acccagaccc atcaagaatc\n",
      "    15601 ctaggggccg gctgttttgt agatgatatc gtaaaaacag atggtacact tatgattgaa\n",
      "    15661 cggttcgtgt ctttagctat agatgcttac ccacttacta aacatcctaa tcaggagtat\n",
      "    15721 gctgatgtct ttcatttgta cttacaatac ataagaaagc tacatgatga gttaacagga\n",
      "    15781 cacatgttag acatgtattc tgttatgctt actaatgata acacttcaag gtattgggaa\n",
      "    15841 cctgagtttt atgaggctat gtacacaccg catacagtct tacaggctgt tggggcttgt\n",
      "    15901 gttctttgca attcacagac ttcattaaga tgtggtgctt gcatacgtag accattctta\n",
      "    15961 tgttgtaaat gctgttacga ccatgtcata ccaacatcac ataaattagt cttgtctgtt\n",
      "    16021 aatccgtatg tttgcaatgc tccaggttgt gatgtcacag atgtgactca actttactta\n",
      "    16081 ggaggtatga gctattattg taaatcacat aaaccaccca ttagttttcc attgtgtgct\n",
      "    16141 aatggacaag tttttggttt atataaaaat acatgtgttg gtagcgataa tgttactgac\n",
      "    16201 tttaatgcaa ttgcaacatg tgactggaca aatgctggtg attacatttt agctaacacc\n",
      "    16261 tgtactgaaa gactcaagct ttttgcagca gaaacgctca aagctactga ggagacattt\n",
      "    16321 aaactgtctt atggtattgc tactgtacgt gaagtgctgt ctgacagaga attacatctt\n",
      "    16381 tcatgggaag ttggtaaacc tagaccacca cttaaccgaa attatgtctt tactggttat\n",
      "    16441 cgtgtaacta aaaacagtaa agtacaaata ggagagtaca cctttgaaaa aggtgactat\n",
      "    16501 ggtgatgctg ttgtttaccg aggtacaaca acttacaaat taaatgttgg tgattatttt\n",
      "    16561 gtgctgacat cacatacagt aatgccatta agtgcaccta cactagtgcc acaagagcac\n",
      "    16621 tatgttagaa ttactggctt atacccaaca ctcaatatct cagatgagtt ttctagcaat\n",
      "    16681 gttgcaaatt atcaaaaggt tggtatgcaa aagtattcta cactccaggg accacctggt\n",
      "    16741 actggtaaga gtcattttgc tattggccta gccctctact acccttctgc tcgcatagtg\n",
      "    16801 tatacagctt gctctcatgc cgctgttgat gcactatgtg agaaggcatt aaaatatttg\n",
      "    16861 cctatagata aatgtagtag aattatacct gcacgtgctc gtgtagagtg ttttgataaa\n",
      "    16921 ttcaaagtga attcaacatt agaacagtat gtcttttgta ctgtaaatgc attgcctgag\n",
      "    16981 acgacagcag atatagttgt ctttgatgaa atttcaatgg ccacaaatta tgatttgagt\n",
      "    17041 gttgtcaatg ccagattatg tgctaagcac tatgtgtaca ttggcgaccc tgctcaatta\n",
      "    17101 cctgcaccac gcacattgct aactaagggc acactagaac cagaatattt caattcagtg\n",
      "    17161 tgtagactta tgaaaactat aggtccagac atgttcctcg gaacttgtcg gcgttgtcct\n",
      "    17221 gctgaaattg ttgacactgt gagtgctttg gtttatgata ataagcttaa agcacataaa\n",
      "    17281 gacaaatcag ctcaatgctt taaaatgttt tataagggtg ttatcacgca tgatgtttca\n",
      "    17341 tctgcaatta acaggccaca aataggcgtg gtaagagaat tccttacacg taaccctgct\n",
      "    17401 tggagaaaag ctgtctttat ttcaccttat aattcacaga atgctgtagc ctcaaagatt\n",
      "    17461 ttgggactac caactcaaac tgttgattca tcacagggct cagaatacga ctatgtcata\n",
      "    17521 ttcactcaaa ccactgaaac agctcactct tgtaatgtaa acagatttaa tgttgctatt\n",
      "    17581 accagagcaa aagtaggcat actttgcata atgtctgata gagaccttta tgacaagttg\n",
      "    17641 caatttacaa gtcttgaaat tccacgtagg aatgtggcaa ctttacaagc tgaaaatgta\n",
      "    17701 acaggactct ttaaagattg tagtaaggta atcactgggt tacatcctac acaggcacct\n",
      "    17761 acacacctca gtgttgacac taaattcaaa actgaaggtt tatgtgttga cgtacctggc\n",
      "    17821 atacctaagg acatgaccta tagaagactc atctctatga tgggttttaa aatgaattat\n",
      "    17881 caagttaatg gttaccctaa catgtttatc acccgcgaag aagctataag acatgtacgt\n",
      "    17941 gcatggattg gcttcgatgt cgaggggtgt catgctacta gagaagctgt tggtaccaat\n",
      "    18001 ttacctttac agctaggttt ttctacaggt gttaacctag ttgctgtacc tacaggttat\n",
      "    18061 gttgatacac ctaataatac agatttttcc agagttagtg ctaaaccacc gcctggagat\n",
      "    18121 caatttaaac acctcatacc acttatgtac aaaggacttc cttggaatgt agtgcgtata\n",
      "    18181 aagattgtac aaatgttaag tgacacactt aaaaatctct ctgacagagt cgtatttgtc\n",
      "    18241 ttatgggcac atggctttga gttgacatct atgaagtatt ttgtgaaaat aggacctgag\n",
      "    18301 cgcacctgtt gtctatgtga tagacgtgcc acatgctttt ccactgcttc agacacttat\n",
      "    18361 gcctgttggc atcattctat tggatttgat tacgtctata atccgtttat gattgatgtt\n",
      "    18421 caacaatggg gttttacagg taacctacaa agcaaccatg atctgtattg tcaagtccat\n",
      "    18481 ggtaatgcac atgtagctag ttgtgatgca atcatgacta ggtgtctagc tgtccacgag\n",
      "    18541 tgctttgtta agcgtgttga ctggactatt gaatatccta taattggtga tgaactgaag\n",
      "    18601 attaatgcgg cttgtagaaa ggttcaacac atggttgtta aagctgcatt attagcagac\n",
      "    18661 aaattcccag ttcttcacga cattggtaac cctaaagcta ttaagtgtgt acctcaagct\n",
      "    18721 gatgtagaat ggaagttcta tgatgcacag ccttgtagtg acaaagctta taaaatagaa\n",
      "    18781 gaattattct attcttatgc cacacattct gacaaattca cagatggtgt atgcctattt\n",
      "    18841 tggaattgca atgtcgatag atatcctgct aattccattg tttgtagatt tgacactaga\n",
      "    18901 gtgctatcta accttaactt gcctnnnnnn nnnnnnnnnn nnnnnnnnnn nnnnnnnnnn\n",
      "    18961 nnnnnnnnnn nnnnnnnnnn nnnnnnnnnn nnnnnnnnnn nnnnnnnnnn nnnnnnnnnn\n",
      "    19021 nnnnnnnnnn nnnnnnnnnn nnnnnnnnnn nnnnnnnnnn nnnnnnnnnn nnnnnnnnnn\n",
      "    19081 nnnnnnnnnn nnnnnnnnnn nnnnnnnnnn nnnnnnnnnn nnnnnnnnnn nnnnnnnnnn\n",
      "    19141 nnnnnnnnnn nnnnnnnnnn nnnnnnnnnn nnnnnnnnnn nnnnnnnnnn nnnnnnnnnn\n",
      "    19201 nnnnnnnnnn nnnnnnnnna caaacaattt gatacttata acctctggaa cacttttaca\n",
      "    19261 agacttcaga gtttagaaaa tgtggctttt aatgttgtaa ataagggaca ctttgatgga\n",
      "    19321 caacagggtg aagtaccagt ttctatcatt aataacactg tttacacaaa agttgatggt\n",
      "    19381 gttgatgtag aattgtttga aaataaaaca acattacctg ttaatgtagc atttgagctt\n",
      "    19441 tgggctaagc gcaacattaa accagtacca gaggtgaaaa tactcaataa tttgggtgtg\n",
      "    19501 gacattgctg ctaatactgt gatctgggac tacaaaagag atgctccagc acatatatct\n",
      "    19561 actattggtg tttgttctat gactgacata gccaagaaac caattgaaac gatttgtgca\n",
      "    19621 ccactcactg tcttttttga tggtagagtt gatggtcaag tagacttatt tagaaatgcc\n",
      "    19681 cgtaatggtg ttcttattac agagggtagt gttaaaggtt tacaaccatc tgtaggtccc\n",
      "    19741 aaacaagcta gtcttaatgg agtcacatta attggagaag ccgtaaaaac acagttcaat\n",
      "    19801 tattataaga aagttgatgg tgttgttcaa caattacctg aaacttactt tactcagagt\n",
      "    19861 agaaatttac aagaatttaa acccaggagt caaatggaaa ttgatttctt agaattagct\n",
      "    19921 atggatgaat tcattgaacg gtataaatta gaaggctatg ccttcgaaca tatcgtttat\n",
      "    19981 ggagatttta gtcatagtca gttaggtggt ttacatctac tgattggact agctaaacgt\n",
      "    20041 tttaaggaat caccttttga attagaagat tttattccta tggacagtac agttaaaaac\n",
      "    20101 tatttcataa cagatgcgca aacaggttca tctaagtgtg tgtgttctgt tattgattta\n",
      "    20161 ttacttgatg attttgttga aataataaaa tcccaagatt tatctgtagt ttctaaggtt\n",
      "    20221 gtcaaagtga ctattgacta tacagaaatt tcatttatgc tttggtgtaa agatggccat\n",
      "    20281 gtagaaacat tttacccaaa attacaatct agtcaagcgt ggcaaccggg tgttgctatg\n",
      "    20341 cctaatcttt acaaaatgca aagaatgcta ttagaaaagt gtgaccttca aaattatggt\n",
      "    20401 gatagtgcaa cattacctaa aggcataatg atgaatgtcg caaaatatac tcaactgtgt\n",
      "    20461 caatatttaa acacattaac attagctgta ccctataata tgagagttat acattttggt\n",
      "    20521 gctggttctg ataaaggagt tgcaccaggt acagctgttt taagacagtg gttgcctacg\n",
      "    20581 ggtacgctgc ttgtcgattc agatcttaat gactttgtct ctgatgcaga ttcaactttg\n",
      "    20641 attggtgatt gtgcaactgt acatacagct aataaatggg atctcattat tagtgatatg\n",
      "    20701 tacgacccta agactaaaaa tgttacaaaa gaaaatgact ctaaagaggg ttttttcact\n",
      "    20761 tacatttgtg ggtttataca acaaaagcta gctcttggag gttccgtggc tataaagata\n",
      "    20821 acagaacatt cttggaatgc tgatctttat aagctcatgg gacacttcgc atggtggaca\n",
      "    20881 gcctttgtta ctaatgtgaa tgcgtcatca tctgaagcat ttttaattgg atgtaattat\n",
      "    20941 cttggcaaac cacgcgaaca aatagatggt tatgtcatgc atgcaaatta catattttgg\n",
      "    21001 aggaatacaa atccaattca gttgtcttcc tattctttat ttgacatgag taaatttccc\n",
      "    21061 cttaaattaa ggggtactgc tgttatgtct ttaaaagaag gtcaaatcaa tgatatgatt\n",
      "    21121 ttatctcttc ttagtaaagg tagacttata attagagaaa acaacagagt tgttatttct\n",
      "    21181 agtgatgttc ttgttaacaa ctaaacgaac aatgtttgtt tttcttgttt tattgccact\n",
      "    21241 agtctctagt cagtgtgtta atcttataac cagaactcaa tcatacacta attctttcac\n",
      "    21301 acgtggtgtt tattaccctg acaaagtttt cagatcctca gttttacatt caactcagga\n",
      "    21361 cttgttctta cctttctttt ccaatgttac ttggttccat gctatacatg tctctgggac\n",
      "    21421 caatggtact aagaggtttg acaaccctgc cctaccattt aatgatggtg tttattttgc\n",
      "    21481 ttccactgag aagtctaaca taataagagg ctggattttt ggtactactt tagattcgaa\n",
      "    21541 gacccagtcc ctacttattg ttaataacgc tactaatgtt gttattaaag tctgtgaatt\n",
      "    21601 tcaattttgt aatgatccat ttttggatgt ttaccaaaaa aacaacaaaa gttggatgga\n",
      "    21661 aagtgagttc agagtttatt ctagtgcgaa taattgcact tttgaatatg tctctcagcc\n",
      "    21721 ttttcttatg gaccttgaag gaaaagaggg taatttcaaa aatcttaggg aatttgtgtt\n",
      "    21781 taagaatatt gatggttatt ttaaaatata ttctaagcac acgcctatta atttagagcg\n",
      "    21841 tgatctccct cagggttttt cggctttaga accattggta gnnnnnnnnn nnnnnnnnnn\n",
      "    21901 nnnnnnnnnn nnnnnnnnnn nnnnnnnnnn nnnnnnnnnn nnnnnnnnnn nnnnnnnnnn\n",
      "    21961 nnnnnnnnnn nnnnnnnnnn nnnnnnnnnn nnnnnnnnnn nnnnnncttc aacctaggac\n",
      "    22021 ttttctatta aaatataatg aaaatggaac cattacagat gctgtagact gtgcacttga\n",
      "    22081 ccctctctca gaaacaaagt gtacgttgaa atccttcact gtagaaaaag gaatctatca\n",
      "    22141 aacttctaac tttagagtcc aaccaacaga atctattgtt agatttccta atattacaaa\n",
      "    22201 cttgtgccct tttcatgaag tttttaacgc caccacattt gcatctgttt atgcttggaa\n",
      "    22261 caggaagaga atcagcaact gtgttgctga ttattctgtc atatataatt tcgcaccatt\n",
      "    22321 tttcgctttt aagtgttatg gagtgtctcc tactaaatta aatgatctct gctttactaa\n",
      "    22381 tgtctatgca gattcatttg taattagagg taatgaagtc agccaaatcg ctccagggca\n",
      "    22441 aactggaaat attgctgatt ataattataa attaccagat gattttacag gctgcgttat\n",
      "    22501 agcttggaat tctaacaagc ttgattctaa gcctagtggt aattataatt acctgtatag\n",
      "    22561 attgtttagg aagtctaagc tcaaaccttt tgagagagat atttcaactg aaatctatca\n",
      "    22621 ggccggtaac aaaccttgta atggtgttgc aggtcctaat tgttactctc ctttacaatc\n",
      "    22681 atatggtttc cgacccactt atggtgttgg tcaccaacca tacagagtag tagtactttc\n",
      "    22741 ttttgaactt ctacatgcac cagcaactgt ttgtggacct aaaaagtcta ctaatttggt\n",
      "    22801 taaaaacaaa tgtgtcaatt tcaacttcaa tggtttaaca ggcacaggtg ttcttactga\n",
      "    22861 gtctaacaaa aagtttctgc ctttccaaca atttggcaga gacattgctg acactactga\n",
      "    22921 tgctgtccgt gatccacaga cacttgagat tcttgacatt acaccatgtt cttttggtgg\n",
      "    22981 tgtcagtgtt ataacaccag gaacaaatac ttctaaccag gttgctgttc tttatcaggg\n",
      "    23041 tgttaactgc acagaagtct ctgttgctat tcatgcagat caacttactc ctacttggcg\n",
      "    23101 tgtttattct acaggttcta atgtttttca aacacgtgca ggctgtttaa taggggctga\n",
      "    23161 atatgtcaac aactcatatg agtgtgacat acccattggt gcaggtatat gcgctagtta\n",
      "    23221 tcagactcag actaagtctc atcggcgggc acgtagtgta gctagtcaat ccatcattgc\n",
      "    23281 ctacactatg tcacttggtg cagaaaattc agttgcttac tctaataact ctattgccat\n",
      "    23341 acccacaaat tttactatta gtgttaccac agaaattcta ccagtgtcta tgaccaagac\n",
      "    23401 atcagtagat tgtacaatgt acatttgtgg tgattcaact gaatgcagca atcttttgtn\n",
      "    23461 nnnnnnnnnn nnnnnttgta cacaattaaa acgtgcttta actggaatag ctgttgaaca\n",
      "    23521 agacaaaaac acccaagaag tttttgcaca agtcaaacaa atttacaaaa caccaccaat\n",
      "    23581 taaatatttt ggtggtttta atttttcaca aatattacca gatccatcaa aaccaagcaa\n",
      "    23641 gaggtcattt attgaagatc tacttttcaa caaagtgaca cttgcagatg ctggcttcat\n",
      "    23701 caaacaatat ggtgattgcc ttggtgatat tgctgctaga gacctcattt gtgcacaaaa\n",
      "    23761 gtttaacggc cttactgttt tgccaccttt gctcacagat gaaatgattg ctcaatacac\n",
      "    23821 ttctgcactg ttagcgggta caatcacttc tggttggacc tttggtgcag gtgctgcatt\n",
      "    23881 acaaatacca tttgctatgc aaatggctta taggtttaat ggtattggag ttacacagaa\n",
      "    23941 tgttctctat gagaaccaaa aattgattgc caaccaattt aatagtgcta ttggcaaaat\n",
      "    24001 tcaagactca ctttcttcca cagcaagtgc acttggaaaa cttcaagatg tggtcaacca\n",
      "    24061 taatgcacaa gctttaaaca cgcttgttaa acaacttagc tccaaatttg gtgcaatttc\n",
      "    24121 aagtgtttta aatgatatcc tttcacgtct tgacaaagtt gaggctgaag tgcaaattga\n",
      "    24181 taggttgatc acaggcagac ttcaaagttt gcagacatat gtgactcaac aattaattag\n",
      "    24241 agctgcagaa atcagagctt ctgctaatct tgctgctact aaaatgtcag agtgtgtact\n",
      "    24301 tggacaatca aaaagagttg atttttgtgg aaagggctat catcttatgt ccttccctca\n",
      "    24361 gtcagcacct catggtgtag tcttcttgca tgtgacttat gtccctgcac aagaaaagaa\n",
      "    24421 cttcacaact gctcctgcca tttgtcatga tggaaaagca cactttcctc gtgaaggtgt\n",
      "    24481 ctttgtttca aatggcacac actggtttgt aacacaaagg aatttttatg aaccacaaat\n",
      "    24541 cattactaca gacaacacat ttgtgtctgg taactgtgat gttgtaatag gaattgtcaa\n",
      "    24601 caacacagtt tatgatcctt tgcaacctga attagattca ttcaaggagg agttagataa\n",
      "    24661 atattttaag aatcatacat caccagatgt tgatttaggt gacatctctg gcattaatgc\n",
      "    24721 ttcagttgta aacattcaaa aagaaattga ccgcctcaat gaggttgcca agaatttaaa\n",
      "    24781 tgaatctctc atcgatctcc aagaacttgg aaagtatgag cagtatataa aatggccatg\n",
      "    24841 gtacatttgg ctaggtttta tagctggctt gattgccata gtaatggtga caattatgct\n",
      "    24901 ttgctgtatg accagttgct gtagttgtnn nnnnnnnngt tgttcttgtg gatcctgctg\n",
      "    24961 caaatttgat gaagacgact ctgagccagt gctcaaagga gtcaaattac attacacata\n",
      "    25021 aacgaactta tggatttgtt tatgagaatc tttacaattg gaactgtaac tttgaagcaa\n",
      "    25081 ggtgaaatca aggatgctac tccttcagat tttgttcgcg ctactgcaac gataccgata\n",
      "    25141 caagcctcac tccctttcgg atggcttatt gttggcgttg cacttcttgc tgtttttcag\n",
      "    25201 agcgcttcca aaatcataac tctcaaaaag agatggcaac tagcactctc caagggtgtt\n",
      "    25261 cactttgttt gcaacttgct gttnnnnnnn nnnnnnnnnn nnnnnnnnnn nnnnnnnnnn\n",
      "    25321 nnnnnnnnnn nnnnnnnncc ttttctctat ctttatgctt tagtctactt cttgcagagt\n",
      "    25381 ataaactttg taagaataat aatgaggctt tggctttgct ggaaatgccg ttccaaaaac\n",
      "    25441 ccattacttt atgatgccaa ctattttctt tgctggcata ctaattgtta cgactattgt\n",
      "    25501 nnnnnnnnnn nnnnnnnnnn nnnnnnnnnn nnnnnnnnnn nnnnnnnnnn nnnnnnnnnn\n",
      "    25561 nnnnnnnnnn nnnnnnnnnn nnngattggt ggttatactg aaaaatggga atctggagta\n",
      "    25621 aaagactgtg ttgtattaca cagttacttc acttcagact attaccagct gtactcaact\n",
      "    25681 caattgagta cagacattgg tgttgaacat gttaccttct tcatctacaa taaaattgtt\n",
      "    25741 gatgagcctg aagaacatgt ccaaattcac acaatcgacg gttcatccgg agttgttaat\n",
      "    25801 ccagtaatgg aaccaattta tgatgaaccg acgacgacta ctagcgtgcc tttgtaagca\n",
      "    25861 caagctgatg agtacgaact tatgtactca ttcgtttcgg aagagatagg tgcgttaata\n",
      "    25921 gttaatagcg tacttctttt tcttgctttc gtggtattct tgctagttac actagccatc\n",
      "    25981 cttactgcgc ttcgattgtg tgcgtactgc tgcaatattg ttaacgtgag tcttgtaaaa\n",
      "    26041 ccttcttttt acgtttactc tcgtgttaaa aatctgaatt cttctagagt tcctgatctt\n",
      "    26101 ctggtctaaa cgaactaaat attatattag tttttctgtt tggaacttta attttagcca\n",
      "    26161 tggcagattc caacggtact attaccgttg aagagcttaa aaagctcctt gaagaatgga\n",
      "    26221 acctagtaat aggtttccta ttccttacat ggatttgtct tctacaattt gcctatgcca\n",
      "    26281 acaggaatag gtttttgtat ataattaagt taattttcct ctggctgtta tggccagtaa\n",
      "    26341 ctttaacttg ttttgtgctt gctgctgttt acagaataaa ttggatcacc ggtggaattg\n",
      "    26401 ctatcgcaat ggcttgtctt gtaggcttga tgtggctcag ctacttcatt gcttctttca\n",
      "    26461 gactgtttgc gcgtacgcgt tccatgtggt catttaatcc agaaactaac attcttctca\n",
      "    26521 acgtgccnnn nnnnnnnnnn attctgacca gaccgcttct agaaagtgaa ctcgtaatcg\n",
      "    26581 gagctgtgat ccttcgtgga catcttcgta ttgctggaca ccatctagga cgctgtgaca\n",
      "    26641 tcaaggacct gcctaaagaa atcactgttg ctacatcacg aacgctttct tattacaaat\n",
      "    26701 tgggagcttc gcagcgtgta gcaggtgact caggttttgc tgcatacagt cgctacagga\n",
      "    26761 ttggcaacta taaattaaac acnnnnnnnn nnnnnnnnnn ngacaatatt gctttgcttg\n",
      "    26821 tacagtaagt gacaacagat gtttcatctc gttgactttc aggttactat agcagagata\n",
      "    26881 ttactaatta ttatgcggac ttttaaagtt tccatttgga atcttgacta catcataaac\n",
      "    26941 ctcataatta aaaatttatc taagtcacta actgagaata aatattctca attagatgaa\n",
      "    27001 gagcaaccaa tggagattct ctaaacgaac atgaaaatta ttcttttctt ggcactgata\n",
      "    27061 acactcgcta cttgtgagct ttatcactac caagagtgtg ttagaggtac aacagtactt\n",
      "    27121 ttaaaagaac cttgctcttc tggaacatnn nnnnnnnnnn nnnnnnnnnn nnnnnnnnnn\n",
      "    27181 nnnnnnnnnn nnnnnnnnnn nnnnnnnnnn nnnnnnnnnn nnnnnnnnnn nnnnnnnnnn\n",
      "    27241 nnnnnnnnnn nnnnnnnnnn nnnnnnnnnn nnnnnnnnnn nnnnnnnnnn nnnnnnnnnn\n",
      "    27301 nnnnnnnnnn nnnnnnnnnn nnnnnnnnnn nnnnnnnnnn nnnnnnnnnn nnnnnnnnnn\n",
      "    27361 nnnnnnnnnn nnnnnnnnnn nnnnnnnnnn nnnnnnnnnn nnnnnnnnnn nnnnnnnnnn\n",
      "    27421 nnnnnnnnnn nnnnnnnnnn nnnnnnnnnn nnnnnnnnnn nnnnnnnnnn nnnnnnnnnn\n",
      "    27481 nnnnnnnnnn nnnnnnnnnn nnnnnnnnnn nnnnnnnnnn nnnnnnnnnn nnnnnnnnnn\n",
      "    27541 nnnnnnnnnn nnnnnnnnnn nnnnnnnnnn nnnnnnnnnn nnnnnnnnnn nnnnnnnnnn\n",
      "    27601 nnnnnnnnnn nnnnnnnnnn nnnnnnnnnn nnnnnnnnnn nnnnnnnnnn nnnnnnnnnn\n",
      "    27661 nnnnnnnnnn nnnnnnnnnn nnnnnnnnnn nnnnnnnnnn nnnnnnnnnn nnnnnnnnnn\n",
      "    27721 nnnnnnnnnn nnnnnnnnnn nttcagtaca tcgatatcgg taattataca gtttcctgtt\n",
      "    27781 taccttttac aattaattgc caggaaccta aattgggtag tcttgtagtg cgttgttcgt\n",
      "    27841 tctatgaaga ctttttagag tatcatgacg ttcgtgttgt tttagatttc atctaaacga\n",
      "    27901 acaaacttaa atgtctgata atggacccca aaatcagcga aatgcactcc gcattacgtt\n",
      "    27961 tggtggaccc tcagattcaa ctggcagtaa ccagaatggt ggggcgcgat caaaacaacg\n",
      "    28021 tcggccccaa ggtttaccca ataatattgc gtcttggttc accgctctca ctcaacatgg\n",
      "    28081 caaggaagac cttaaattcc ctcgaggaca aggcgttcca attaacacca atagcagtcc\n",
      "    28141 agatgaccaa attggctact accgaagagc taccagacga attcgtggtg gtgacggtaa\n",
      "    28201 aatgaaagat ctcagtccaa gatggtattt ctactaccta gggactgggc cagaagctgg\n",
      "    28261 acttccctat ggtgctaaca aagacggcat catatgggtt gcaactgagg gagccttgaa\n",
      "    28321 tacaccaaaa gatcacattg gcacccgcaa tcctgctaac aatgctgcaa tcgtgctaca\n",
      "    28381 acttcctcaa ggaacaacat tgccaaaagg cttctacgca gaagggagca gaggcggcag\n",
      "    28441 tcaagcctct tctcgttcct catcacgtag tcgcaacagt tcaagaaatt caactccagg\n",
      "    28501 cagcagtaaa cgaacttctc ctgctagaat ggctggcaat ggcggtgatg ctgctcttgc\n",
      "    28561 tttgctgctg ctcgacagat tgaaccagct tgagagcaaa atgtctggta aaggccaaca\n",
      "    28621 acaacaaggc caaactgtca ctaagaaatc tgctgctgag gcttctaaga agcctcggca\n",
      "    28681 aaaacgtact gccactaaag catacaatgt aacacaagct ttcggcagac gtggtccaga\n",
      "    28741 acaaacccaa ggaaattttg gggaccagga actaatcaga caaggaactg attacaaaca\n",
      "    28801 ttggccgcaa attgcacaat ttgcccccag cgcttcagcg ttcttcggaa tgtcgcgcat\n",
      "    28861 tggcatggaa gtcacacctt cgggaacgtg gttgacctac acaggtgcca tcaaattgga\n",
      "    28921 tgacaaagat ccaaatttca aagatcaagt cattttgctg aataagcata ttgacgcata\n",
      "    28981 caaannnnnn nnnnnnnnnn nnnnnnnnnn nnnnnnaaag aagaaggctg atgaaactca\n",
      "    29041 agccttaccg cagagacaga agaaacagca aactgtgact cttcttcctg ctgcagattt\n",
      "    29101 ggatgatttc tccaaacaat tgcaacaatc catgagccgt gctgactcaa ctcaggccta\n",
      "    29161 aactcatgca gaccacacaa ggcagatggg ctatataaac gttttcgctt ttccgtttac\n",
      "    29221 gatatatagt ctactcttgt gcagaatgaa ttctcgtaac tacatagcac aagtagatgt\n",
      "    29281 agttaacttt aatctcacat agcaatcttt aatcagtgtg taacattagg gaggacttga\n",
      "    29341 aagagccacc acattttcac ctacagtgaa caatgctagg gagagctgcc tatatggaag\n",
      "    29401 agccctaatg tgtaaaatta attttagtag tgctatcc\n",
      "//\n",
      "\n",
      "\n"
     ]
    }
   ],
   "source": [
    "handle = Entrez.efetch(db=\"nucleotide\", id=\"2607840939\", rettype=\"gb\", retmode=\"text\")\n",
    "print(handle.read())"
   ]
  },
  {
   "cell_type": "code",
   "execution_count": null,
   "metadata": {},
   "outputs": [],
   "source": []
  },
  {
   "cell_type": "code",
   "execution_count": 30,
   "metadata": {},
   "outputs": [],
   "source": [
    "handle = Entrez.esearch(db='nucleotide', term='accD[Gene Name] AND \"E. coli\"[Organism]', retmax=\"20\")\n",
    "result_list = Entrez.read(handle)"
   ]
  },
  {
   "cell_type": "code",
   "execution_count": 31,
   "metadata": {},
   "outputs": [
    {
     "name": "stdout",
     "output_type": "stream",
     "text": [
      "['2608158611', '2608158607', '2608136696', '2608071221', '2608071208', '2608050907', '2608028807', '2608019261', '2607821198', '2607770425', '2607770393', '2607770389', '2607770385', '2607762529', '2607762494', '2607762474', '2607762469', '2607762467', '2607761547', '2607761542']\n",
      "\n",
      "\n",
      "242094\n"
     ]
    }
   ],
   "source": [
    "id_list = result_list['IdList']\n",
    "count = result_list['Count']\n",
    "\n",
    "print(id_list)\n",
    "print(\"\\n\")\n",
    "print(count)"
   ]
  },
  {
   "cell_type": "code",
   "execution_count": 32,
   "metadata": {},
   "outputs": [],
   "source": [
    "handle.close()"
   ]
  },
  {
   "cell_type": "markdown",
   "metadata": {},
   "source": [
    "------------------------------------------------------"
   ]
  },
  {
   "cell_type": "markdown",
   "metadata": {},
   "source": [
    "# 3. PDB"
   ]
  },
  {
   "cell_type": "markdown",
   "metadata": {},
   "source": [
    "### Import Modules"
   ]
  },
  {
   "cell_type": "code",
   "execution_count": 33,
   "metadata": {},
   "outputs": [],
   "source": [
    "from Bio.PDB import PDBParser,PDBList"
   ]
  },
  {
   "cell_type": "code",
   "execution_count": 34,
   "metadata": {},
   "outputs": [],
   "source": [
    "# help(PDBList)"
   ]
  },
  {
   "cell_type": "code",
   "execution_count": 35,
   "metadata": {},
   "outputs": [
    {
     "name": "stdout",
     "output_type": "stream",
     "text": [
      "Downloading PDB structure '7byr'...\n"
     ]
    },
    {
     "data": {
      "text/plain": [
       "'dir\\\\pdb7byr.ent'"
      ]
     },
     "execution_count": 35,
     "metadata": {},
     "output_type": "execute_result"
    }
   ],
   "source": [
    "PDBl = PDBList()\n",
    "PDBl.retrieve_pdb_file('7BYR', file_format = \"pdb\", pdir = \"dir\")"
   ]
  },
  {
   "cell_type": "code",
   "execution_count": 36,
   "metadata": {
    "scrolled": true
   },
   "outputs": [
    {
     "name": "stderr",
     "output_type": "stream",
     "text": [
      "c:\\Users\\hamza\\.conda\\envs\\python_eda\\Lib\\site-packages\\Bio\\PDB\\StructureBuilder.py:89: PDBConstructionWarning: WARNING: Chain A is discontinuous at line 26237.\n",
      "  warnings.warn(\n",
      "c:\\Users\\hamza\\.conda\\envs\\python_eda\\Lib\\site-packages\\Bio\\PDB\\StructureBuilder.py:89: PDBConstructionWarning: WARNING: Chain B is discontinuous at line 26405.\n",
      "  warnings.warn(\n",
      "c:\\Users\\hamza\\.conda\\envs\\python_eda\\Lib\\site-packages\\Bio\\PDB\\StructureBuilder.py:89: PDBConstructionWarning: WARNING: Chain C is discontinuous at line 26545.\n",
      "  warnings.warn(\n"
     ]
    }
   ],
   "source": [
    "parser = PDBParser()\n",
    "structure = parser.get_structure(\"7BYR\", \"dir\\\\pdb7byr.ent\")"
   ]
  },
  {
   "cell_type": "code",
   "execution_count": 37,
   "metadata": {},
   "outputs": [
    {
     "name": "stdout",
     "output_type": "stream",
     "text": [
      "chainid: A\n",
      "chainid: B\n",
      "chainid: C\n",
      "chainid: H\n",
      "chainid: L\n",
      "chainid: D\n",
      "chainid: E\n",
      "chainid: F\n",
      "chainid: G\n",
      "chainid: I\n",
      "chainid: J\n"
     ]
    }
   ],
   "source": [
    "for chain in structure[0]:\n",
    "    print(f\"chainid: {chain.id}\")"
   ]
  },
  {
   "cell_type": "code",
   "execution_count": 38,
   "metadata": {},
   "outputs": [
    {
     "data": {
      "text/plain": [
       "3.84"
      ]
     },
     "execution_count": 38,
     "metadata": {},
     "output_type": "execute_result"
    }
   ],
   "source": [
    "resolution = structure.header[\"resolution\"]\n",
    "resolution"
   ]
  },
  {
   "cell_type": "code",
   "execution_count": 39,
   "metadata": {},
   "outputs": [
    {
     "data": {
      "text/plain": [
       "'sars-cov-2, antigen, rbd, neutralizing antibody, viral protein'"
      ]
     },
     "execution_count": 39,
     "metadata": {},
     "output_type": "execute_result"
    }
   ],
   "source": [
    "keywords = structure.header[\"keywords\"]\n",
    "keywords"
   ]
  },
  {
   "cell_type": "markdown",
   "metadata": {},
   "source": [
    "------------------------------------------------------"
   ]
  },
  {
   "cell_type": "markdown",
   "metadata": {},
   "source": [
    "# 4. EXPASY"
   ]
  },
  {
   "cell_type": "markdown",
   "metadata": {},
   "source": [
    "## 4.1. PROSITE"
   ]
  },
  {
   "cell_type": "markdown",
   "metadata": {},
   "source": [
    "### Import Modules"
   ]
  },
  {
   "cell_type": "code",
   "execution_count": 40,
   "metadata": {},
   "outputs": [],
   "source": [
    "from Bio import ExPASy\n",
    "from Bio.ExPASy import Prosite"
   ]
  },
  {
   "cell_type": "code",
   "execution_count": 41,
   "metadata": {},
   "outputs": [],
   "source": [
    "# help(Prosite)"
   ]
  },
  {
   "cell_type": "code",
   "execution_count": 42,
   "metadata": {},
   "outputs": [],
   "source": [
    "handle = ExPASy.get_prosite_raw(\"PS51442\")\n",
    "record = Prosite.read(handle)"
   ]
  },
  {
   "cell_type": "code",
   "execution_count": 43,
   "metadata": {
    "scrolled": false
   },
   "outputs": [
    {
     "name": "stdout",
     "output_type": "stream",
     "text": [
      "Coronavirus main protease (M-pro) domain profile.\n"
     ]
    }
   ],
   "source": [
    "print(record.description)"
   ]
  },
  {
   "cell_type": "code",
   "execution_count": 44,
   "metadata": {},
   "outputs": [
    {
     "name": "stdout",
     "output_type": "stream",
     "text": [
      "['1LVO', '1P9S', '1P9U', '1Q2W', '1UJ1', '1UK2', '1UK3', '1UK4', '1WOF', '1Z1I']\n"
     ]
    }
   ],
   "source": [
    "print(record.pdb_structs[:10])"
   ]
  },
  {
   "cell_type": "code",
   "execution_count": 45,
   "metadata": {},
   "outputs": [
    {
     "name": "stdout",
     "output_type": "stream",
     "text": [
      "N-{P}-[ST]-{P}.\n"
     ]
    }
   ],
   "source": [
    "handle = ExPASy.get_prosite_raw(\"PS00001\")\n",
    "record = Prosite.read(handle)\n",
    "print(record.pattern)"
   ]
  },
  {
   "cell_type": "markdown",
   "metadata": {},
   "source": [
    "## 4.2. ScanProsite"
   ]
  },
  {
   "cell_type": "markdown",
   "metadata": {},
   "source": [
    "### Import Modules"
   ]
  },
  {
   "cell_type": "code",
   "execution_count": 46,
   "metadata": {},
   "outputs": [],
   "source": [
    "from Bio.ExPASy import ScanProsite"
   ]
  },
  {
   "cell_type": "code",
   "execution_count": 47,
   "metadata": {},
   "outputs": [
    {
     "data": {
      "text/plain": [
       "258"
      ]
     },
     "execution_count": 47,
     "metadata": {},
     "output_type": "execute_result"
    }
   ],
   "source": [
    "prot_record = SeqIO.read(\"prot_seq.fasta\", format=\"fasta\")\n",
    "len(prot_record.seq)"
   ]
  },
  {
   "cell_type": "code",
   "execution_count": 48,
   "metadata": {},
   "outputs": [],
   "source": [
    "handle = ScanProsite.scan(seq=prot_record.seq, mirror=\"https://prosite.expasy.org/\")\n",
    "result = ScanProsite.read(handle)"
   ]
  },
  {
   "cell_type": "code",
   "execution_count": 49,
   "metadata": {},
   "outputs": [
    {
     "data": {
      "text/plain": [
       "1"
      ]
     },
     "execution_count": 49,
     "metadata": {},
     "output_type": "execute_result"
    }
   ],
   "source": [
    "result.n_match"
   ]
  },
  {
   "cell_type": "code",
   "execution_count": 50,
   "metadata": {},
   "outputs": [
    {
     "data": {
      "text/plain": [
       "{'sequence_ac': 'USERSEQ1',\n",
       " 'start': 1,\n",
       " 'stop': 118,\n",
       " 'signature_ac': 'PS51921',\n",
       " 'score': '32.871',\n",
       " 'level': '0'}"
      ]
     },
     "execution_count": 50,
     "metadata": {},
     "output_type": "execute_result"
    }
   ],
   "source": [
    "result[0]"
   ]
  },
  {
   "cell_type": "markdown",
   "metadata": {},
   "source": [
    "------------------------------------------------------"
   ]
  },
  {
   "cell_type": "markdown",
   "metadata": {},
   "source": [
    "# 5. KEGG"
   ]
  },
  {
   "cell_type": "markdown",
   "metadata": {},
   "source": [
    "### Import Modules"
   ]
  },
  {
   "cell_type": "code",
   "execution_count": 59,
   "metadata": {},
   "outputs": [],
   "source": [
    "from Bio.KEGG import REST, Enzyme\n",
    "import ssl\n",
    "import urllib.request"
   ]
  },
  {
   "cell_type": "code",
   "execution_count": 60,
   "metadata": {},
   "outputs": [],
   "source": [
    "# help(Enzyme)"
   ]
  },
  {
   "cell_type": "code",
   "execution_count": 61,
   "metadata": {},
   "outputs": [
    {
     "data": {
      "text/plain": [
       "272447"
      ]
     },
     "execution_count": 61,
     "metadata": {},
     "output_type": "execute_result"
    }
   ],
   "source": [
    "request = REST.kegg_get(\"ec:5.4.2.2\")\n",
    "open(\"ec_5.4.2.2.txt\", \"w\").write(request.read())"
   ]
  },
  {
   "cell_type": "code",
   "execution_count": 62,
   "metadata": {},
   "outputs": [
    {
     "data": {
      "text/plain": [
       "['Isomerases;',\n",
       " 'Intramolecular transferases;',\n",
       " 'Phosphotransferases (phosphomutases)']"
      ]
     },
     "execution_count": 62,
     "metadata": {},
     "output_type": "execute_result"
    }
   ],
   "source": [
    "records = Enzyme.parse(open(\"ec_5.4.2.2.txt\"))\n",
    "record = list(records)[0]\n",
    "record.classname"
   ]
  },
  {
   "cell_type": "code",
   "execution_count": 63,
   "metadata": {},
   "outputs": [
    {
     "data": {
      "text/plain": [
       "[('PATH', 'ec00010', 'Glycolysis / Gluconeogenesis'),\n",
       " ('PATH', 'ec00030', 'Pentose phosphate pathway'),\n",
       " ('PATH', 'ec00052', 'Galactose metabolism'),\n",
       " ('PATH', 'ec00230', 'Purine metabolism'),\n",
       " ('PATH', 'ec00500', 'Starch and sucrose metabolism'),\n",
       " ('PATH', 'ec00520', 'Amino sugar and nucleotide sugar metabolism'),\n",
       " ('PATH', 'ec00521', 'Streptomycin biosynthesis'),\n",
       " ('PATH', 'ec01100', 'Metabolic pathways'),\n",
       " ('PATH', 'ec01110', 'Biosynthesis of secondary metabolites'),\n",
       " ('PATH', 'ec01120', 'Microbial metabolism in diverse environments')]"
      ]
     },
     "execution_count": 63,
     "metadata": {},
     "output_type": "execute_result"
    }
   ],
   "source": [
    "record.pathway"
   ]
  },
  {
   "cell_type": "code",
   "execution_count": 64,
   "metadata": {},
   "outputs": [
    {
     "data": {
      "text/plain": [
       "[('HSA', ['5236', '55276']),\n",
       " ('PTR', ['456908', '461162']),\n",
       " ('PPS', ['100977295', '100993927']),\n",
       " ('GGO', ['101128874', '101131551']),\n",
       " ('PON', ['100190836', '100438793']),\n",
       " ('NLE', ['100596081', '100600656']),\n",
       " ('HMH', ['116456694', '116457795']),\n",
       " ('MCC', ['100424648', '699401']),\n",
       " ('MCF', ['101925921', '102130622']),\n",
       " ('MTHB', ['126935012', '126954887'])]"
      ]
     },
     "execution_count": 64,
     "metadata": {},
     "output_type": "execute_result"
    }
   ],
   "source": [
    "record.genes[:10]"
   ]
  },
  {
   "cell_type": "code",
   "execution_count": 65,
   "metadata": {},
   "outputs": [
    {
     "name": "stdout",
     "output_type": "stream",
     "text": [
      "['HSA', 'PTR', 'PPS', 'GGO', 'PON', 'NLE', 'HMH', 'MCC', 'MCF', 'MTHB']\n"
     ]
    }
   ],
   "source": [
    "list_genes = []\n",
    "for x, y in record.genes:\n",
    "    list_genes += x.split(\"\\n\")\n",
    "\n",
    "print(list_genes[:10])"
   ]
  },
  {
   "cell_type": "markdown",
   "metadata": {},
   "source": [
    "------------------------------------------------------"
   ]
  }
 ],
 "metadata": {
  "kernelspec": {
   "display_name": "Python 3",
   "language": "python",
   "name": "python3"
  },
  "language_info": {
   "codemirror_mode": {
    "name": "ipython",
    "version": 3
   },
   "file_extension": ".py",
   "mimetype": "text/x-python",
   "name": "python",
   "nbconvert_exporter": "python",
   "pygments_lexer": "ipython3",
   "version": "3.11.0"
  }
 },
 "nbformat": 4,
 "nbformat_minor": 4
}
